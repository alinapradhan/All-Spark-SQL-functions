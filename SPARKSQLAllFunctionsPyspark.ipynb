{
  "nbformat": 4,
  "nbformat_minor": 0,
  "metadata": {
    "colab": {
      "provenance": [],
      "authorship_tag": "ABX9TyPRGq16Z22EjnelGyB0o4m8",
      "include_colab_link": true
    },
    "kernelspec": {
      "name": "python3",
      "display_name": "Python 3"
    },
    "language_info": {
      "name": "python"
    }
  },
  "cells": [
    {
      "cell_type": "markdown",
      "metadata": {
        "id": "view-in-github",
        "colab_type": "text"
      },
      "source": [
        "<a href=\"https://colab.research.google.com/github/alinapradhan/All-Spark-SQL-functions/blob/main/SPARKSQLAllFunctionsPyspark.ipynb\" target=\"_parent\"><img src=\"https://colab.research.google.com/assets/colab-badge.svg\" alt=\"Open In Colab\"/></a>"
      ]
    },
    {
      "cell_type": "code",
      "execution_count": null,
      "metadata": {
        "colab": {
          "base_uri": "https://localhost:8080/"
        },
        "id": "0XBMzG7VNUFf",
        "outputId": "810edf4e-e775-496a-ef2c-f0f4ab2af32e"
      },
      "outputs": [
        {
          "output_type": "stream",
          "name": "stdout",
          "text": [
            "Requirement already satisfied: pyspark in /usr/local/lib/python3.11/dist-packages (3.5.1)\n",
            "Requirement already satisfied: py4j==0.10.9.7 in /usr/local/lib/python3.11/dist-packages (from pyspark) (0.10.9.7)\n"
          ]
        }
      ],
      "source": [
        "!pip install pyspark"
      ]
    },
    {
      "cell_type": "code",
      "source": [
        "## create sample data\n",
        "from pyspark.sql import SparkSession\n",
        "from pyspark.sql.functions import lit\n",
        "from datetime import datetime\n"
      ],
      "metadata": {
        "id": "tGErmAOdNnC4"
      },
      "execution_count": null,
      "outputs": []
    },
    {
      "cell_type": "code",
      "source": [
        "# intialise spark session\n",
        "spark = SparkSession.builder.appName(\"Sample Data\").getOrCreate()"
      ],
      "metadata": {
        "id": "rCI7sb4-N6Jm"
      },
      "execution_count": null,
      "outputs": []
    },
    {
      "cell_type": "code",
      "source": [
        "spark"
      ],
      "metadata": {
        "colab": {
          "base_uri": "https://localhost:8080/",
          "height": 222
        },
        "id": "zoyMPj6WOJIW",
        "outputId": "aa2977eb-5ace-4f44-a2ef-c351a92840dd"
      },
      "execution_count": null,
      "outputs": [
        {
          "output_type": "execute_result",
          "data": {
            "text/plain": [
              "<pyspark.sql.session.SparkSession at 0x7a945898f5d0>"
            ],
            "text/html": [
              "\n",
              "            <div>\n",
              "                <p><b>SparkSession - in-memory</b></p>\n",
              "                \n",
              "        <div>\n",
              "            <p><b>SparkContext</b></p>\n",
              "\n",
              "            <p><a href=\"http://993d688bce67:4040\">Spark UI</a></p>\n",
              "\n",
              "            <dl>\n",
              "              <dt>Version</dt>\n",
              "                <dd><code>v3.5.1</code></dd>\n",
              "              <dt>Master</dt>\n",
              "                <dd><code>local[*]</code></dd>\n",
              "              <dt>AppName</dt>\n",
              "                <dd><code>Sample Data</code></dd>\n",
              "            </dl>\n",
              "        </div>\n",
              "        \n",
              "            </div>\n",
              "        "
            ]
          },
          "metadata": {},
          "execution_count": 6
        }
      ]
    },
    {
      "cell_type": "code",
      "source": [
        "# sample data\n",
        "data = [\n",
        "    (1, \"John Doe\", \"2024-08-01\", 23, 1000.50),\n",
        "    (2, \"Jane Smith\", \"2024-08-02\", 25, 1500.75),\n",
        "    (3, \"Bob Johnson\", \"2024-08-03\", 18,3000.10),\n",
        "    (4, \"Alice Brown\", \"2024-08-04\", 22, 2500.25),\n",
        "    (5, \"David Lee\", \"2024-08-05\", 27, 3500.50),\n",
        "    (6,\"Ayush Pradhan\",\"2024-08-06\",31,2500.45),\n",
        "]"
      ],
      "metadata": {
        "id": "VgRvOIcUOKuu"
      },
      "execution_count": null,
      "outputs": []
    },
    {
      "cell_type": "code",
      "source": [
        "# Create Dataframe\n",
        "columns = [\"id\", \"name\", \"dob\", \"age\", \"salary\"]\n",
        "df = spark.createDataFrame(data, columns)"
      ],
      "metadata": {
        "id": "SwUfMBG9OxCG"
      },
      "execution_count": null,
      "outputs": []
    },
    {
      "cell_type": "code",
      "source": [
        "# Spark the intial Dataframe\n",
        "df.show()"
      ],
      "metadata": {
        "colab": {
          "base_uri": "https://localhost:8080/"
        },
        "id": "iiFUF8-7PI92",
        "outputId": "76f438bb-9d11-4155-ee8c-fcb503b60e0e"
      },
      "execution_count": null,
      "outputs": [
        {
          "output_type": "stream",
          "name": "stdout",
          "text": [
            "+---+-------------+----------+---+-------+\n",
            "| id|         name|       dob|age| salary|\n",
            "+---+-------------+----------+---+-------+\n",
            "|  1|     John Doe|2024-08-01| 23| 1000.5|\n",
            "|  2|   Jane Smith|2024-08-02| 25|1500.75|\n",
            "|  3|  Bob Johnson|2024-08-03| 18| 3000.1|\n",
            "|  4|  Alice Brown|2024-08-04| 22|2500.25|\n",
            "|  5|    David Lee|2024-08-05| 27| 3500.5|\n",
            "|  6|Ayush Pradhan|2024-08-06| 31|2500.45|\n",
            "+---+-------------+----------+---+-------+\n",
            "\n"
          ]
        }
      ]
    },
    {
      "cell_type": "code",
      "source": [
        "# 1 .col  #Selects the \"name\" column.\n",
        "from pyspark.sql.functions import col\n",
        "df.select(col(\"name\")).show()\n"
      ],
      "metadata": {
        "colab": {
          "base_uri": "https://localhost:8080/"
        },
        "id": "ZUiA85CkPQON",
        "outputId": "d308329c-48d6-4962-84a4-28b83ae03b77"
      },
      "execution_count": null,
      "outputs": [
        {
          "output_type": "stream",
          "name": "stdout",
          "text": [
            "+-------------+\n",
            "|         name|\n",
            "+-------------+\n",
            "|     John Doe|\n",
            "|   Jane Smith|\n",
            "|  Bob Johnson|\n",
            "|  Alice Brown|\n",
            "|    David Lee|\n",
            "|Ayush Pradhan|\n",
            "+-------------+\n",
            "\n"
          ]
        }
      ]
    },
    {
      "cell_type": "code",
      "source": [
        "# 2. lit #Adds a new column with a literal valudf_country = df.withColumn(\"country\", lit(\"USA\"))\n",
        "df_country = df.withColumn(\"country\", lit(\"USA\"))\n",
        "df_country.show()"
      ],
      "metadata": {
        "colab": {
          "base_uri": "https://localhost:8080/"
        },
        "id": "vfn9G7yHPX_e",
        "outputId": "cccc73ff-3ec8-4269-a8db-5f51fe0bcdb7"
      },
      "execution_count": null,
      "outputs": [
        {
          "output_type": "stream",
          "name": "stdout",
          "text": [
            "+---+-------------+----------+---+-------+-------+\n",
            "| id|         name|       dob|age| salary|country|\n",
            "+---+-------------+----------+---+-------+-------+\n",
            "|  1|     John Doe|2024-08-01| 23| 1000.5|    USA|\n",
            "|  2|   Jane Smith|2024-08-02| 25|1500.75|    USA|\n",
            "|  3|  Bob Johnson|2024-08-03| 18| 3000.1|    USA|\n",
            "|  4|  Alice Brown|2024-08-04| 22|2500.25|    USA|\n",
            "|  5|    David Lee|2024-08-05| 27| 3500.5|    USA|\n",
            "|  6|Ayush Pradhan|2024-08-06| 31|2500.45|    USA|\n",
            "+---+-------------+----------+---+-------+-------+\n",
            "\n"
          ]
        }
      ]
    },
    {
      "cell_type": "code",
      "source": [
        "df.show()"
      ],
      "metadata": {
        "colab": {
          "base_uri": "https://localhost:8080/"
        },
        "id": "nyx6OVewQNnI",
        "outputId": "8feb0e4a-783c-4ad8-85da-fd59d793018b"
      },
      "execution_count": null,
      "outputs": [
        {
          "output_type": "stream",
          "name": "stdout",
          "text": [
            "+---+-------------+----------+---+-------+\n",
            "| id|         name|       dob|age| salary|\n",
            "+---+-------------+----------+---+-------+\n",
            "|  1|     John Doe|2024-08-01| 23| 1000.5|\n",
            "|  2|   Jane Smith|2024-08-02| 25|1500.75|\n",
            "|  3|  Bob Johnson|2024-08-03| 18| 3000.1|\n",
            "|  4|  Alice Brown|2024-08-04| 22|2500.25|\n",
            "|  5|    David Lee|2024-08-05| 27| 3500.5|\n",
            "|  6|Ayush Pradhan|2024-08-06| 31|2500.45|\n",
            "+---+-------------+----------+---+-------+\n",
            "\n"
          ]
        }
      ]
    },
    {
      "cell_type": "code",
      "source": [
        "# 3. adds 5 to the \"age\" column\n",
        "from pyspark.sql.functions import expr\n",
        "df_age = df.withColumn(\"age_plus_5\", expr(\"age + 5\"))\n",
        "df_age.show()"
      ],
      "metadata": {
        "colab": {
          "base_uri": "https://localhost:8080/"
        },
        "id": "mGGo9U7SQSsV",
        "outputId": "49a310b6-5939-4d00-c34f-b94377d7caa4"
      },
      "execution_count": null,
      "outputs": [
        {
          "output_type": "stream",
          "name": "stdout",
          "text": [
            "+---+-------------+----------+---+-------+----------+\n",
            "| id|         name|       dob|age| salary|age_plus_5|\n",
            "+---+-------------+----------+---+-------+----------+\n",
            "|  1|     John Doe|2024-08-01| 23| 1000.5|        28|\n",
            "|  2|   Jane Smith|2024-08-02| 25|1500.75|        30|\n",
            "|  3|  Bob Johnson|2024-08-03| 18| 3000.1|        23|\n",
            "|  4|  Alice Brown|2024-08-04| 22|2500.25|        27|\n",
            "|  5|    David Lee|2024-08-05| 27| 3500.5|        32|\n",
            "|  6|Ayush Pradhan|2024-08-06| 31|2500.45|        36|\n",
            "+---+-------------+----------+---+-------+----------+\n",
            "\n"
          ]
        }
      ]
    },
    {
      "cell_type": "code",
      "source": [
        "# 4. when\n",
        "#Classifies people as \"Adult\" or \"Minor\".\n",
        "#from pyspark.sql.functions import when\n",
        "#df.withColumn(\"status\", when(col(\"age\") > 18, \"Adult\").otherwise(\"Minor\")).show()\n",
        "from pyspark.sql.functions import when\n",
        "df_classification = df.withColumn(\"classification\", when(col(\"age\") >= 18, \"Adult\").otherwise(\"Minor\"))\n",
        "df_classification.show()\n"
      ],
      "metadata": {
        "colab": {
          "base_uri": "https://localhost:8080/"
        },
        "id": "tXTkLobOQiil",
        "outputId": "1bd6d09e-cab9-4c27-fe55-1a313cde77f4"
      },
      "execution_count": null,
      "outputs": [
        {
          "output_type": "stream",
          "name": "stdout",
          "text": [
            "+---+-------------+----------+---+-------+--------------+\n",
            "| id|         name|       dob|age| salary|classification|\n",
            "+---+-------------+----------+---+-------+--------------+\n",
            "|  1|     John Doe|2024-08-01| 23| 1000.5|         Adult|\n",
            "|  2|   Jane Smith|2024-08-02| 25|1500.75|         Adult|\n",
            "|  3|  Bob Johnson|2024-08-03| 18| 3000.1|         Adult|\n",
            "|  4|  Alice Brown|2024-08-04| 22|2500.25|         Adult|\n",
            "|  5|    David Lee|2024-08-05| 27| 3500.5|         Adult|\n",
            "|  6|Ayush Pradhan|2024-08-06| 31|2500.45|         Adult|\n",
            "+---+-------------+----------+---+-------+--------------+\n",
            "\n"
          ]
        }
      ]
    },
    {
      "cell_type": "code",
      "source": [
        "#5 .concat\n",
        "#Concatenates first and last names with a space.\n",
        "from pyspark.sql.functions import concat\n",
        "df_concat = df.withColumn(\"full_name\", concat(col(\"name\"), lit(\" \")))\n",
        "df_concat.show()"
      ],
      "metadata": {
        "colab": {
          "base_uri": "https://localhost:8080/"
        },
        "id": "eOxg-2P6Q1U1",
        "outputId": "d20a8798-84bc-4e5f-e7e9-56ae6852efd2"
      },
      "execution_count": null,
      "outputs": [
        {
          "output_type": "stream",
          "name": "stdout",
          "text": [
            "+---+-------------+----------+---+-------+--------------+\n",
            "| id|         name|       dob|age| salary|     full_name|\n",
            "+---+-------------+----------+---+-------+--------------+\n",
            "|  1|     John Doe|2024-08-01| 23| 1000.5|     John Doe |\n",
            "|  2|   Jane Smith|2024-08-02| 25|1500.75|   Jane Smith |\n",
            "|  3|  Bob Johnson|2024-08-03| 18| 3000.1|  Bob Johnson |\n",
            "|  4|  Alice Brown|2024-08-04| 22|2500.25|  Alice Brown |\n",
            "|  5|    David Lee|2024-08-05| 27| 3500.5|    David Lee |\n",
            "|  6|Ayush Pradhan|2024-08-06| 31|2500.45|Ayush Pradhan |\n",
            "+---+-------------+----------+---+-------+--------------+\n",
            "\n"
          ]
        }
      ]
    },
    {
      "cell_type": "code",
      "source": [
        "# 6 . substring\n",
        "#Extracts the first three characters from the \"name\" column.\n",
        "from pyspark.sql.functions import substring\n",
        "df_substring = df.withColumn(\"first_three_chars\", substring(col(\"name\"), 1, 3))\n",
        "df_substring.show()"
      ],
      "metadata": {
        "colab": {
          "base_uri": "https://localhost:8080/"
        },
        "id": "-2DyhUJRQ8nF",
        "outputId": "82c39c07-dff0-4222-a2e9-47c593ae87a3"
      },
      "execution_count": null,
      "outputs": [
        {
          "output_type": "stream",
          "name": "stdout",
          "text": [
            "+---+-------------+----------+---+-------+-----------------+\n",
            "| id|         name|       dob|age| salary|first_three_chars|\n",
            "+---+-------------+----------+---+-------+-----------------+\n",
            "|  1|     John Doe|2024-08-01| 23| 1000.5|              Joh|\n",
            "|  2|   Jane Smith|2024-08-02| 25|1500.75|              Jan|\n",
            "|  3|  Bob Johnson|2024-08-03| 18| 3000.1|              Bob|\n",
            "|  4|  Alice Brown|2024-08-04| 22|2500.25|              Ali|\n",
            "|  5|    David Lee|2024-08-05| 27| 3500.5|              Dav|\n",
            "|  6|Ayush Pradhan|2024-08-06| 31|2500.45|              Ayu|\n",
            "+---+-------------+----------+---+-------+-----------------+\n",
            "\n"
          ]
        }
      ]
    },
    {
      "cell_type": "code",
      "source": [
        "# 7 . split\n",
        "## splits the name column into AN ARRAY of words\n",
        "from pyspark.sql.functions import split\n",
        "df_split = df.withColumn(\"name_array\", split(col(\"name\"), \" \"))\n",
        "df_split.show()"
      ],
      "metadata": {
        "colab": {
          "base_uri": "https://localhost:8080/"
        },
        "id": "hSZigqsPRRl1",
        "outputId": "48abb737-5d68-47c2-b6c4-9e80f85e347f"
      },
      "execution_count": null,
      "outputs": [
        {
          "output_type": "stream",
          "name": "stdout",
          "text": [
            "+---+-------------+----------+---+-------+----------------+\n",
            "| id|         name|       dob|age| salary|      name_array|\n",
            "+---+-------------+----------+---+-------+----------------+\n",
            "|  1|     John Doe|2024-08-01| 23| 1000.5|     [John, Doe]|\n",
            "|  2|   Jane Smith|2024-08-02| 25|1500.75|   [Jane, Smith]|\n",
            "|  3|  Bob Johnson|2024-08-03| 18| 3000.1|  [Bob, Johnson]|\n",
            "|  4|  Alice Brown|2024-08-04| 22|2500.25|  [Alice, Brown]|\n",
            "|  5|    David Lee|2024-08-05| 27| 3500.5|    [David, Lee]|\n",
            "|  6|Ayush Pradhan|2024-08-06| 31|2500.45|[Ayush, Pradhan]|\n",
            "+---+-------------+----------+---+-------+----------------+\n",
            "\n"
          ]
        }
      ]
    },
    {
      "cell_type": "code",
      "source": [
        "# 8 . regexp_replace\n",
        "# replaces \"john\" with \"Jon\" in the \"name\" column\n",
        "from pyspark.sql.functions import regexp_replace\n",
        "df_replace = df.withColumn(\"replaced_name\", regexp_replace(col(\"name\"), \"John\", \"Jon\"))\n",
        "df_replace.show()"
      ],
      "metadata": {
        "colab": {
          "base_uri": "https://localhost:8080/"
        },
        "id": "-FtWxEFfRbqd",
        "outputId": "0ca690b7-ab45-4b0c-e670-b3e1ed171045"
      },
      "execution_count": null,
      "outputs": [
        {
          "output_type": "stream",
          "name": "stdout",
          "text": [
            "+---+-------------+----------+---+-------+-------------+\n",
            "| id|         name|       dob|age| salary|replaced_name|\n",
            "+---+-------------+----------+---+-------+-------------+\n",
            "|  1|     John Doe|2024-08-01| 23| 1000.5|      Jon Doe|\n",
            "|  2|   Jane Smith|2024-08-02| 25|1500.75|   Jane Smith|\n",
            "|  3|  Bob Johnson|2024-08-03| 18| 3000.1|   Bob Jonson|\n",
            "|  4|  Alice Brown|2024-08-04| 22|2500.25|  Alice Brown|\n",
            "|  5|    David Lee|2024-08-05| 27| 3500.5|    David Lee|\n",
            "|  6|Ayush Pradhan|2024-08-06| 31|2500.45|Ayush Pradhan|\n",
            "+---+-------------+----------+---+-------+-------------+\n",
            "\n"
          ]
        }
      ]
    },
    {
      "cell_type": "code",
      "source": [
        "# 9. count\n",
        "# Counts the number of records in the DataFrame\n",
        "from pyspark.sql.functions import count\n",
        "df_count = df.select(count(\"*\").alias(\"record_count\"))\n",
        "df_count.show()"
      ],
      "metadata": {
        "colab": {
          "base_uri": "https://localhost:8080/"
        },
        "id": "Z03iRJyCRrU1",
        "outputId": "f81a653d-6b0f-420c-ea6f-a391fe7c58db"
      },
      "execution_count": null,
      "outputs": [
        {
          "output_type": "stream",
          "name": "stdout",
          "text": [
            "+------------+\n",
            "|record_count|\n",
            "+------------+\n",
            "|           6|\n",
            "+------------+\n",
            "\n"
          ]
        }
      ]
    },
    {
      "cell_type": "code",
      "source": [
        "# 10. sum\n",
        "#Calculates the total salary.\n",
        "from pyspark.sql.functions import sum\n",
        "df_sum = df.agg(sum(\"salary\").alias(\"total_salary\"))\n",
        "df_sum.show()"
      ],
      "metadata": {
        "colab": {
          "base_uri": "https://localhost:8080/"
        },
        "id": "UXaInvAlR9zd",
        "outputId": "708b6623-a3c4-4304-8f6c-83343b4b4723"
      },
      "execution_count": null,
      "outputs": [
        {
          "output_type": "stream",
          "name": "stdout",
          "text": [
            "+------------------+\n",
            "|      total_salary|\n",
            "+------------------+\n",
            "|14002.550000000001|\n",
            "+------------------+\n",
            "\n"
          ]
        }
      ]
    },
    {
      "cell_type": "code",
      "source": [
        "# 11 .avg\n",
        "#Calculates the average age.\n",
        "from pyspark.sql.functions import avg\n",
        "df_avg = df.agg(avg(\"age\").alias(\"average_age\"))\n",
        "df_avg.show()"
      ],
      "metadata": {
        "colab": {
          "base_uri": "https://localhost:8080/"
        },
        "id": "-ZkbKOtxSFZF",
        "outputId": "6aecbeba-98b7-490f-c6f6-7a80e337d0a3"
      },
      "execution_count": null,
      "outputs": [
        {
          "output_type": "stream",
          "name": "stdout",
          "text": [
            "+------------------+\n",
            "|       average_age|\n",
            "+------------------+\n",
            "|24.333333333333332|\n",
            "+------------------+\n",
            "\n"
          ]
        }
      ]
    },
    {
      "cell_type": "code",
      "source": [
        "# 12 max\n",
        "# finds the maximum salary\n",
        "from pyspark.sql.functions import max\n",
        "df_max = df.agg(max(\"salary\").alias(\"max_salary\"))\n",
        "df_max.show()"
      ],
      "metadata": {
        "colab": {
          "base_uri": "https://localhost:8080/"
        },
        "id": "M9badiNTSKqF",
        "outputId": "9c6a607a-3cdb-47b8-ca80-4f84922380c0"
      },
      "execution_count": null,
      "outputs": [
        {
          "output_type": "stream",
          "name": "stdout",
          "text": [
            "+----------+\n",
            "|max_salary|\n",
            "+----------+\n",
            "|    3500.5|\n",
            "+----------+\n",
            "\n"
          ]
        }
      ]
    },
    {
      "cell_type": "code",
      "source": [
        "# 13 min\n",
        "# finds the minimum age\n",
        "from pyspark.sql.functions import min\n",
        "df_min = df.agg(min(\"age\").alias(\"min_age\"))\n",
        "df_min.show()"
      ],
      "metadata": {
        "colab": {
          "base_uri": "https://localhost:8080/"
        },
        "id": "zQhrxKt1SR5c",
        "outputId": "9722e65e-3af2-4f9e-dbbe-f5806ce69724"
      },
      "execution_count": null,
      "outputs": [
        {
          "output_type": "stream",
          "name": "stdout",
          "text": [
            "+-------+\n",
            "|min_age|\n",
            "+-------+\n",
            "|     18|\n",
            "+-------+\n",
            "\n"
          ]
        }
      ]
    },
    {
      "cell_type": "code",
      "source": [
        "# 14 round\n",
        "# rounds the salary to the nearest integer\n",
        "from pyspark.sql.functions import round\n",
        "df_round = df.withColumn(\"rounded_salary\", round(col(\"salary\"), 0))\n",
        "df_round.show()"
      ],
      "metadata": {
        "colab": {
          "base_uri": "https://localhost:8080/"
        },
        "id": "1KFTJ7EASX-N",
        "outputId": "680fbf3e-6a4e-4888-ae81-94fca3089bc2"
      },
      "execution_count": null,
      "outputs": [
        {
          "output_type": "stream",
          "name": "stdout",
          "text": [
            "+---+-------------+----------+---+-------+--------------+\n",
            "| id|         name|       dob|age| salary|rounded_salary|\n",
            "+---+-------------+----------+---+-------+--------------+\n",
            "|  1|     John Doe|2024-08-01| 23| 1000.5|        1001.0|\n",
            "|  2|   Jane Smith|2024-08-02| 25|1500.75|        1501.0|\n",
            "|  3|  Bob Johnson|2024-08-03| 18| 3000.1|        3000.0|\n",
            "|  4|  Alice Brown|2024-08-04| 22|2500.25|        2500.0|\n",
            "|  5|    David Lee|2024-08-05| 27| 3500.5|        3501.0|\n",
            "|  6|Ayush Pradhan|2024-08-06| 31|2500.45|        2500.0|\n",
            "+---+-------------+----------+---+-------+--------------+\n",
            "\n"
          ]
        }
      ]
    },
    {
      "cell_type": "code",
      "source": [
        "# 15. data_format\n",
        "# Formats the \"dob ( date of birth )\" columns as MM/dd/YY\n",
        "from pyspark.sql.functions import date_format\n",
        "df_format = df.withColumn(\"formatted_dob\", date_format(col(\"dob\"), \"mm/dd/yyyy\"))\n",
        "df_format.show()"
      ],
      "metadata": {
        "colab": {
          "base_uri": "https://localhost:8080/"
        },
        "id": "ZHS9Wk3lSgS8",
        "outputId": "dd91cf0a-c120-4c77-c028-2c06ee6ee9d5"
      },
      "execution_count": null,
      "outputs": [
        {
          "output_type": "stream",
          "name": "stdout",
          "text": [
            "+---+-------------+----------+---+-------+-------------+\n",
            "| id|         name|       dob|age| salary|formatted_dob|\n",
            "+---+-------------+----------+---+-------+-------------+\n",
            "|  1|     John Doe|2024-08-01| 23| 1000.5|   00/01/2024|\n",
            "|  2|   Jane Smith|2024-08-02| 25|1500.75|   00/02/2024|\n",
            "|  3|  Bob Johnson|2024-08-03| 18| 3000.1|   00/03/2024|\n",
            "|  4|  Alice Brown|2024-08-04| 22|2500.25|   00/04/2024|\n",
            "|  5|    David Lee|2024-08-05| 27| 3500.5|   00/05/2024|\n",
            "|  6|Ayush Pradhan|2024-08-06| 31|2500.45|   00/06/2024|\n",
            "+---+-------------+----------+---+-------+-------------+\n",
            "\n"
          ]
        }
      ]
    },
    {
      "cell_type": "code",
      "source": [
        "# 16 current date\n",
        "# adds the current date to the DatAfrAME\n",
        "from pyspark.sql.functions import current_date\n",
        "df_current_date = df.withColumn(\"current_date\", current_date())\n",
        "df_current_date.show()"
      ],
      "metadata": {
        "colab": {
          "base_uri": "https://localhost:8080/"
        },
        "id": "DO89FnF9S84l",
        "outputId": "e8ee9880-a7ed-47ba-dcac-ed08aad58771"
      },
      "execution_count": null,
      "outputs": [
        {
          "output_type": "stream",
          "name": "stdout",
          "text": [
            "+---+-------------+----------+---+-------+------------+\n",
            "| id|         name|       dob|age| salary|current_date|\n",
            "+---+-------------+----------+---+-------+------------+\n",
            "|  1|     John Doe|2024-08-01| 23| 1000.5|  2025-08-02|\n",
            "|  2|   Jane Smith|2024-08-02| 25|1500.75|  2025-08-02|\n",
            "|  3|  Bob Johnson|2024-08-03| 18| 3000.1|  2025-08-02|\n",
            "|  4|  Alice Brown|2024-08-04| 22|2500.25|  2025-08-02|\n",
            "|  5|    David Lee|2024-08-05| 27| 3500.5|  2025-08-02|\n",
            "|  6|Ayush Pradhan|2024-08-06| 31|2500.45|  2025-08-02|\n",
            "+---+-------------+----------+---+-------+------------+\n",
            "\n"
          ]
        }
      ]
    },
    {
      "cell_type": "code",
      "source": [
        "# 17 CURRENT TIMESTAMP\n",
        "#adds the current timestamp to the DataFrame\n",
        "from pyspark.sql.functions import current_timestamp\n",
        "df_current_timestamp = df.withColumn(\"current_timestamp\", current_timestamp())\n",
        "df_current_timestamp.show()"
      ],
      "metadata": {
        "colab": {
          "base_uri": "https://localhost:8080/"
        },
        "id": "bLz9F9nITX2M",
        "outputId": "088aa01f-42ab-40d7-a9f8-e61cb5e354b1"
      },
      "execution_count": null,
      "outputs": [
        {
          "output_type": "stream",
          "name": "stdout",
          "text": [
            "+---+-------------+----------+---+-------+--------------------+\n",
            "| id|         name|       dob|age| salary|   current_timestamp|\n",
            "+---+-------------+----------+---+-------+--------------------+\n",
            "|  1|     John Doe|2024-08-01| 23| 1000.5|2025-08-02 10:22:...|\n",
            "|  2|   Jane Smith|2024-08-02| 25|1500.75|2025-08-02 10:22:...|\n",
            "|  3|  Bob Johnson|2024-08-03| 18| 3000.1|2025-08-02 10:22:...|\n",
            "|  4|  Alice Brown|2024-08-04| 22|2500.25|2025-08-02 10:22:...|\n",
            "|  5|    David Lee|2024-08-05| 27| 3500.5|2025-08-02 10:22:...|\n",
            "|  6|Ayush Pradhan|2024-08-06| 31|2500.45|2025-08-02 10:22:...|\n",
            "+---+-------------+----------+---+-------+--------------------+\n",
            "\n"
          ]
        }
      ]
    },
    {
      "cell_type": "code",
      "source": [
        "# 18 year,month,dayofmonth\n",
        "# Extracts the year,month, and the day from the \"dob\" column\n",
        "from pyspark.sql.functions import year, month, dayofmonth"
      ],
      "metadata": {
        "id": "vX-M8esKTibc"
      },
      "execution_count": null,
      "outputs": []
    },
    {
      "cell_type": "code",
      "source": [
        "df_year = df.withColumn(\"year\", year(col(\"dob\")))\n",
        "df_year.show()"
      ],
      "metadata": {
        "colab": {
          "base_uri": "https://localhost:8080/"
        },
        "id": "mEDf8_i-UXD8",
        "outputId": "a86a1c5e-5a66-484f-d212-d8ecbe5bd95f"
      },
      "execution_count": null,
      "outputs": [
        {
          "output_type": "stream",
          "name": "stdout",
          "text": [
            "+---+-------------+----------+---+-------+----+\n",
            "| id|         name|       dob|age| salary|year|\n",
            "+---+-------------+----------+---+-------+----+\n",
            "|  1|     John Doe|2024-08-01| 23| 1000.5|2024|\n",
            "|  2|   Jane Smith|2024-08-02| 25|1500.75|2024|\n",
            "|  3|  Bob Johnson|2024-08-03| 18| 3000.1|2024|\n",
            "|  4|  Alice Brown|2024-08-04| 22|2500.25|2024|\n",
            "|  5|    David Lee|2024-08-05| 27| 3500.5|2024|\n",
            "|  6|Ayush Pradhan|2024-08-06| 31|2500.45|2024|\n",
            "+---+-------------+----------+---+-------+----+\n",
            "\n"
          ]
        }
      ]
    },
    {
      "cell_type": "code",
      "source": [
        "#19 date_add\n",
        "#adds 10 days top the \"dob\" columns\n",
        "from pyspark.sql.functions import date_add\n",
        "df_date_add = df.withColumn(\"date_after_10_days\", date_add(col(\"dob\"), 10))\n",
        "df_date_add.show()"
      ],
      "metadata": {
        "colab": {
          "base_uri": "https://localhost:8080/"
        },
        "id": "XYKI8oghUZnj",
        "outputId": "0b0831a1-23da-43af-eda8-97e74a632824"
      },
      "execution_count": null,
      "outputs": [
        {
          "output_type": "stream",
          "name": "stdout",
          "text": [
            "+---+-------------+----------+---+-------+------------------+\n",
            "| id|         name|       dob|age| salary|date_after_10_days|\n",
            "+---+-------------+----------+---+-------+------------------+\n",
            "|  1|     John Doe|2024-08-01| 23| 1000.5|        2024-08-11|\n",
            "|  2|   Jane Smith|2024-08-02| 25|1500.75|        2024-08-12|\n",
            "|  3|  Bob Johnson|2024-08-03| 18| 3000.1|        2024-08-13|\n",
            "|  4|  Alice Brown|2024-08-04| 22|2500.25|        2024-08-14|\n",
            "|  5|    David Lee|2024-08-05| 27| 3500.5|        2024-08-15|\n",
            "|  6|Ayush Pradhan|2024-08-06| 31|2500.45|        2024-08-16|\n",
            "+---+-------------+----------+---+-------+------------------+\n",
            "\n"
          ]
        }
      ]
    },
    {
      "cell_type": "code",
      "source": [
        "# 20 date_sub\n",
        "# subtracts 10 days from the \"dob\" columns\n",
        "from pyspark.sql.functions import date_sub\n",
        "df_date_sub = df.withColumn(\"date_before_10_days\", date_sub(col(\"dob\"), 10))\n",
        "df_date_sub.show()"
      ],
      "metadata": {
        "colab": {
          "base_uri": "https://localhost:8080/"
        },
        "id": "sJet0pECUq0z",
        "outputId": "63845b25-8e18-4152-f0b4-a768c23958a0"
      },
      "execution_count": null,
      "outputs": [
        {
          "output_type": "stream",
          "name": "stdout",
          "text": [
            "+---+-------------+----------+---+-------+-------------------+\n",
            "| id|         name|       dob|age| salary|date_before_10_days|\n",
            "+---+-------------+----------+---+-------+-------------------+\n",
            "|  1|     John Doe|2024-08-01| 23| 1000.5|         2024-07-22|\n",
            "|  2|   Jane Smith|2024-08-02| 25|1500.75|         2024-07-23|\n",
            "|  3|  Bob Johnson|2024-08-03| 18| 3000.1|         2024-07-24|\n",
            "|  4|  Alice Brown|2024-08-04| 22|2500.25|         2024-07-25|\n",
            "|  5|    David Lee|2024-08-05| 27| 3500.5|         2024-07-26|\n",
            "|  6|Ayush Pradhan|2024-08-06| 31|2500.45|         2024-07-27|\n",
            "+---+-------------+----------+---+-------+-------------------+\n",
            "\n"
          ]
        }
      ]
    },
    {
      "cell_type": "code",
      "source": [],
      "metadata": {
        "id": "kM6RyA9wU1IE"
      },
      "execution_count": null,
      "outputs": []
    }
  ]
}