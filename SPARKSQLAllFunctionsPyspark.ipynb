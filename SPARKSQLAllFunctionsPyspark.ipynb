{
  "nbformat": 4,
  "nbformat_minor": 0,
  "metadata": {
    "colab": {
      "provenance": [],
      "authorship_tag": "ABX9TyMnx+1kJRaB7in5vfWUxxOh",
      "include_colab_link": true
    },
    "kernelspec": {
      "name": "python3",
      "display_name": "Python 3"
    },
    "language_info": {
      "name": "python"
    }
  },
  "cells": [
    {
      "cell_type": "markdown",
      "metadata": {
        "id": "view-in-github",
        "colab_type": "text"
      },
      "source": [
        "<a href=\"https://colab.research.google.com/github/alinapradhan/All-Spark-SQL-functions/blob/main/SPARKSQLAllFunctionsPyspark.ipynb\" target=\"_parent\"><img src=\"https://colab.research.google.com/assets/colab-badge.svg\" alt=\"Open In Colab\"/></a>"
      ]
    },
    {
      "cell_type": "code",
      "execution_count": 1,
      "metadata": {
        "colab": {
          "base_uri": "https://localhost:8080/"
        },
        "id": "0XBMzG7VNUFf",
        "outputId": "66f82abc-2ddd-4039-d8d0-d9d9497142a9"
      },
      "outputs": [
        {
          "output_type": "stream",
          "name": "stdout",
          "text": [
            "Requirement already satisfied: pyspark in /usr/local/lib/python3.11/dist-packages (3.5.1)\n",
            "Requirement already satisfied: py4j==0.10.9.7 in /usr/local/lib/python3.11/dist-packages (from pyspark) (0.10.9.7)\n"
          ]
        }
      ],
      "source": [
        "!pip install pyspark"
      ]
    },
    {
      "cell_type": "code",
      "source": [
        "## create sample data\n",
        "from pyspark.sql import SparkSession\n",
        "from pyspark.sql.functions import lit\n",
        "from datetime import datetime\n"
      ],
      "metadata": {
        "id": "tGErmAOdNnC4"
      },
      "execution_count": 2,
      "outputs": []
    },
    {
      "cell_type": "code",
      "source": [
        "# intialise spark session\n",
        "spark = SparkSession.builder.appName(\"Sample Data\").getOrCreate()"
      ],
      "metadata": {
        "id": "rCI7sb4-N6Jm"
      },
      "execution_count": 3,
      "outputs": []
    },
    {
      "cell_type": "code",
      "source": [
        "spark"
      ],
      "metadata": {
        "colab": {
          "base_uri": "https://localhost:8080/",
          "height": 222
        },
        "id": "zoyMPj6WOJIW",
        "outputId": "cf82e9b2-0a71-4145-bfbb-d1b9c8228db2"
      },
      "execution_count": 4,
      "outputs": [
        {
          "output_type": "execute_result",
          "data": {
            "text/plain": [
              "<pyspark.sql.session.SparkSession at 0x7af57d617410>"
            ],
            "text/html": [
              "\n",
              "            <div>\n",
              "                <p><b>SparkSession - in-memory</b></p>\n",
              "                \n",
              "        <div>\n",
              "            <p><b>SparkContext</b></p>\n",
              "\n",
              "            <p><a href=\"http://8df9bb7a0a0c:4040\">Spark UI</a></p>\n",
              "\n",
              "            <dl>\n",
              "              <dt>Version</dt>\n",
              "                <dd><code>v3.5.1</code></dd>\n",
              "              <dt>Master</dt>\n",
              "                <dd><code>local[*]</code></dd>\n",
              "              <dt>AppName</dt>\n",
              "                <dd><code>Sample Data</code></dd>\n",
              "            </dl>\n",
              "        </div>\n",
              "        \n",
              "            </div>\n",
              "        "
            ]
          },
          "metadata": {},
          "execution_count": 4
        }
      ]
    },
    {
      "cell_type": "code",
      "source": [
        "# sample data\n",
        "data = [\n",
        "    (1, \"John Doe\", \"2024-08-01\", 23, 1000.50),\n",
        "    (2, \"Jane Smith\", \"2024-08-02\", 25, 1500.75),\n",
        "    (3, \"Bob Johnson\", \"2024-08-03\", 18,3000.10),\n",
        "    (4, \"Alice Brown\", \"2024-08-04\", 22, 2500.25),\n",
        "    (5, \"David Lee\", \"2024-08-05\", 27, 3500.50),\n",
        "    (6,\"Ayush Pradhan\",\"2024-08-06\",31,2500.45),\n",
        "]"
      ],
      "metadata": {
        "id": "VgRvOIcUOKuu"
      },
      "execution_count": 5,
      "outputs": []
    },
    {
      "cell_type": "code",
      "source": [
        "# Create Dataframe\n",
        "columns = [\"id\", \"name\", \"dob\", \"age\", \"salary\"]\n",
        "df = spark.createDataFrame(data, columns)"
      ],
      "metadata": {
        "id": "SwUfMBG9OxCG"
      },
      "execution_count": 6,
      "outputs": []
    },
    {
      "cell_type": "code",
      "source": [
        "# Spark the intial Dataframe\n",
        "df.show()"
      ],
      "metadata": {
        "colab": {
          "base_uri": "https://localhost:8080/"
        },
        "id": "iiFUF8-7PI92",
        "outputId": "e91b06f2-c4e8-473e-c6d4-aad2a6002280"
      },
      "execution_count": 7,
      "outputs": [
        {
          "output_type": "stream",
          "name": "stdout",
          "text": [
            "+---+-------------+----------+---+-------+\n",
            "| id|         name|       dob|age| salary|\n",
            "+---+-------------+----------+---+-------+\n",
            "|  1|     John Doe|2024-08-01| 23| 1000.5|\n",
            "|  2|   Jane Smith|2024-08-02| 25|1500.75|\n",
            "|  3|  Bob Johnson|2024-08-03| 18| 3000.1|\n",
            "|  4|  Alice Brown|2024-08-04| 22|2500.25|\n",
            "|  5|    David Lee|2024-08-05| 27| 3500.5|\n",
            "|  6|Ayush Pradhan|2024-08-06| 31|2500.45|\n",
            "+---+-------------+----------+---+-------+\n",
            "\n"
          ]
        }
      ]
    },
    {
      "cell_type": "code",
      "source": [
        "# 1 .col  #Selects the \"name\" column.\n",
        "from pyspark.sql.functions import col\n",
        "df.select(col(\"name\")).show()\n"
      ],
      "metadata": {
        "colab": {
          "base_uri": "https://localhost:8080/"
        },
        "id": "ZUiA85CkPQON",
        "outputId": "dad12ffc-8edd-46fa-a632-ec745f21c51a"
      },
      "execution_count": 8,
      "outputs": [
        {
          "output_type": "stream",
          "name": "stdout",
          "text": [
            "+-------------+\n",
            "|         name|\n",
            "+-------------+\n",
            "|     John Doe|\n",
            "|   Jane Smith|\n",
            "|  Bob Johnson|\n",
            "|  Alice Brown|\n",
            "|    David Lee|\n",
            "|Ayush Pradhan|\n",
            "+-------------+\n",
            "\n"
          ]
        }
      ]
    },
    {
      "cell_type": "code",
      "source": [
        "# 2. lit #Adds a new column with a literal valudf_country = df.withColumn(\"country\", lit(\"USA\"))\n",
        "df_country = df.withColumn(\"country\", lit(\"USA\"))\n",
        "df_country.show()"
      ],
      "metadata": {
        "colab": {
          "base_uri": "https://localhost:8080/"
        },
        "id": "vfn9G7yHPX_e",
        "outputId": "8f621fd5-757a-4085-d4fb-77b4271eaf06"
      },
      "execution_count": 9,
      "outputs": [
        {
          "output_type": "stream",
          "name": "stdout",
          "text": [
            "+---+-------------+----------+---+-------+-------+\n",
            "| id|         name|       dob|age| salary|country|\n",
            "+---+-------------+----------+---+-------+-------+\n",
            "|  1|     John Doe|2024-08-01| 23| 1000.5|    USA|\n",
            "|  2|   Jane Smith|2024-08-02| 25|1500.75|    USA|\n",
            "|  3|  Bob Johnson|2024-08-03| 18| 3000.1|    USA|\n",
            "|  4|  Alice Brown|2024-08-04| 22|2500.25|    USA|\n",
            "|  5|    David Lee|2024-08-05| 27| 3500.5|    USA|\n",
            "|  6|Ayush Pradhan|2024-08-06| 31|2500.45|    USA|\n",
            "+---+-------------+----------+---+-------+-------+\n",
            "\n"
          ]
        }
      ]
    },
    {
      "cell_type": "code",
      "source": [
        "df.show()"
      ],
      "metadata": {
        "colab": {
          "base_uri": "https://localhost:8080/"
        },
        "id": "nyx6OVewQNnI",
        "outputId": "41a75768-e519-4e69-aa0b-48b3e9459816"
      },
      "execution_count": 10,
      "outputs": [
        {
          "output_type": "stream",
          "name": "stdout",
          "text": [
            "+---+-------------+----------+---+-------+\n",
            "| id|         name|       dob|age| salary|\n",
            "+---+-------------+----------+---+-------+\n",
            "|  1|     John Doe|2024-08-01| 23| 1000.5|\n",
            "|  2|   Jane Smith|2024-08-02| 25|1500.75|\n",
            "|  3|  Bob Johnson|2024-08-03| 18| 3000.1|\n",
            "|  4|  Alice Brown|2024-08-04| 22|2500.25|\n",
            "|  5|    David Lee|2024-08-05| 27| 3500.5|\n",
            "|  6|Ayush Pradhan|2024-08-06| 31|2500.45|\n",
            "+---+-------------+----------+---+-------+\n",
            "\n"
          ]
        }
      ]
    },
    {
      "cell_type": "code",
      "source": [
        "# 3. adds 5 to the \"age\" column\n",
        "from pyspark.sql.functions import expr\n",
        "df_age = df.withColumn(\"age_plus_5\", expr(\"age + 5\"))\n",
        "df_age.show()"
      ],
      "metadata": {
        "colab": {
          "base_uri": "https://localhost:8080/"
        },
        "id": "mGGo9U7SQSsV",
        "outputId": "f6fe3aae-2144-4451-e922-6d7e94118bce"
      },
      "execution_count": 11,
      "outputs": [
        {
          "output_type": "stream",
          "name": "stdout",
          "text": [
            "+---+-------------+----------+---+-------+----------+\n",
            "| id|         name|       dob|age| salary|age_plus_5|\n",
            "+---+-------------+----------+---+-------+----------+\n",
            "|  1|     John Doe|2024-08-01| 23| 1000.5|        28|\n",
            "|  2|   Jane Smith|2024-08-02| 25|1500.75|        30|\n",
            "|  3|  Bob Johnson|2024-08-03| 18| 3000.1|        23|\n",
            "|  4|  Alice Brown|2024-08-04| 22|2500.25|        27|\n",
            "|  5|    David Lee|2024-08-05| 27| 3500.5|        32|\n",
            "|  6|Ayush Pradhan|2024-08-06| 31|2500.45|        36|\n",
            "+---+-------------+----------+---+-------+----------+\n",
            "\n"
          ]
        }
      ]
    },
    {
      "cell_type": "code",
      "source": [
        "# 4. when\n",
        "#Classifies people as \"Adult\" or \"Minor\".\n",
        "#from pyspark.sql.functions import when\n",
        "#df.withColumn(\"status\", when(col(\"age\") > 18, \"Adult\").otherwise(\"Minor\")).show()\n",
        "from pyspark.sql.functions import when\n",
        "df_classification = df.withColumn(\"classification\", when(col(\"age\") >= 18, \"Adult\").otherwise(\"Minor\"))\n",
        "df_classification.show()\n"
      ],
      "metadata": {
        "colab": {
          "base_uri": "https://localhost:8080/"
        },
        "id": "tXTkLobOQiil",
        "outputId": "6f17c62b-1974-4a46-cbef-85b9529b109c"
      },
      "execution_count": 12,
      "outputs": [
        {
          "output_type": "stream",
          "name": "stdout",
          "text": [
            "+---+-------------+----------+---+-------+--------------+\n",
            "| id|         name|       dob|age| salary|classification|\n",
            "+---+-------------+----------+---+-------+--------------+\n",
            "|  1|     John Doe|2024-08-01| 23| 1000.5|         Adult|\n",
            "|  2|   Jane Smith|2024-08-02| 25|1500.75|         Adult|\n",
            "|  3|  Bob Johnson|2024-08-03| 18| 3000.1|         Adult|\n",
            "|  4|  Alice Brown|2024-08-04| 22|2500.25|         Adult|\n",
            "|  5|    David Lee|2024-08-05| 27| 3500.5|         Adult|\n",
            "|  6|Ayush Pradhan|2024-08-06| 31|2500.45|         Adult|\n",
            "+---+-------------+----------+---+-------+--------------+\n",
            "\n"
          ]
        }
      ]
    },
    {
      "cell_type": "code",
      "source": [
        "#5 .concat\n",
        "#Concatenates first and last names with a space.\n",
        "from pyspark.sql.functions import concat\n",
        "df_concat = df.withColumn(\"full_name\", concat(col(\"name\"), lit(\" \")))\n",
        "df_concat.show()"
      ],
      "metadata": {
        "colab": {
          "base_uri": "https://localhost:8080/"
        },
        "id": "eOxg-2P6Q1U1",
        "outputId": "9dae4c43-3be2-4a65-ef7a-b0366e57c2c3"
      },
      "execution_count": 13,
      "outputs": [
        {
          "output_type": "stream",
          "name": "stdout",
          "text": [
            "+---+-------------+----------+---+-------+--------------+\n",
            "| id|         name|       dob|age| salary|     full_name|\n",
            "+---+-------------+----------+---+-------+--------------+\n",
            "|  1|     John Doe|2024-08-01| 23| 1000.5|     John Doe |\n",
            "|  2|   Jane Smith|2024-08-02| 25|1500.75|   Jane Smith |\n",
            "|  3|  Bob Johnson|2024-08-03| 18| 3000.1|  Bob Johnson |\n",
            "|  4|  Alice Brown|2024-08-04| 22|2500.25|  Alice Brown |\n",
            "|  5|    David Lee|2024-08-05| 27| 3500.5|    David Lee |\n",
            "|  6|Ayush Pradhan|2024-08-06| 31|2500.45|Ayush Pradhan |\n",
            "+---+-------------+----------+---+-------+--------------+\n",
            "\n"
          ]
        }
      ]
    },
    {
      "cell_type": "code",
      "source": [
        "# 6 . substring\n",
        "#Extracts the first three characters from the \"name\" column.\n",
        "from pyspark.sql.functions import substring\n",
        "df_substring = df.withColumn(\"first_three_chars\", substring(col(\"name\"), 1, 3))\n",
        "df_substring.show()"
      ],
      "metadata": {
        "colab": {
          "base_uri": "https://localhost:8080/"
        },
        "id": "-2DyhUJRQ8nF",
        "outputId": "b3eb1e47-1812-4e99-d239-896894f1d468"
      },
      "execution_count": 14,
      "outputs": [
        {
          "output_type": "stream",
          "name": "stdout",
          "text": [
            "+---+-------------+----------+---+-------+-----------------+\n",
            "| id|         name|       dob|age| salary|first_three_chars|\n",
            "+---+-------------+----------+---+-------+-----------------+\n",
            "|  1|     John Doe|2024-08-01| 23| 1000.5|              Joh|\n",
            "|  2|   Jane Smith|2024-08-02| 25|1500.75|              Jan|\n",
            "|  3|  Bob Johnson|2024-08-03| 18| 3000.1|              Bob|\n",
            "|  4|  Alice Brown|2024-08-04| 22|2500.25|              Ali|\n",
            "|  5|    David Lee|2024-08-05| 27| 3500.5|              Dav|\n",
            "|  6|Ayush Pradhan|2024-08-06| 31|2500.45|              Ayu|\n",
            "+---+-------------+----------+---+-------+-----------------+\n",
            "\n"
          ]
        }
      ]
    },
    {
      "cell_type": "code",
      "source": [
        "# 7 . split\n",
        "## splits the name column into AN ARRAY of words\n",
        "from pyspark.sql.functions import split\n",
        "df_split = df.withColumn(\"name_array\", split(col(\"name\"), \" \"))\n",
        "df_split.show()"
      ],
      "metadata": {
        "colab": {
          "base_uri": "https://localhost:8080/"
        },
        "id": "hSZigqsPRRl1",
        "outputId": "6ae3e39e-0f0b-4879-f4e3-498e6f8d4e92"
      },
      "execution_count": 15,
      "outputs": [
        {
          "output_type": "stream",
          "name": "stdout",
          "text": [
            "+---+-------------+----------+---+-------+----------------+\n",
            "| id|         name|       dob|age| salary|      name_array|\n",
            "+---+-------------+----------+---+-------+----------------+\n",
            "|  1|     John Doe|2024-08-01| 23| 1000.5|     [John, Doe]|\n",
            "|  2|   Jane Smith|2024-08-02| 25|1500.75|   [Jane, Smith]|\n",
            "|  3|  Bob Johnson|2024-08-03| 18| 3000.1|  [Bob, Johnson]|\n",
            "|  4|  Alice Brown|2024-08-04| 22|2500.25|  [Alice, Brown]|\n",
            "|  5|    David Lee|2024-08-05| 27| 3500.5|    [David, Lee]|\n",
            "|  6|Ayush Pradhan|2024-08-06| 31|2500.45|[Ayush, Pradhan]|\n",
            "+---+-------------+----------+---+-------+----------------+\n",
            "\n"
          ]
        }
      ]
    },
    {
      "cell_type": "code",
      "source": [
        "# 8 . regexp_replace\n",
        "# replaces \"john\" with \"Jon\" in the \"name\" column\n",
        "from pyspark.sql.functions import regexp_replace\n",
        "df_replace = df.withColumn(\"replaced_name\", regexp_replace(col(\"name\"), \"John\", \"Jon\"))\n",
        "df_replace.show()"
      ],
      "metadata": {
        "colab": {
          "base_uri": "https://localhost:8080/"
        },
        "id": "-FtWxEFfRbqd",
        "outputId": "efdefa57-a1b1-4660-fbe6-089b53cad0ab"
      },
      "execution_count": 16,
      "outputs": [
        {
          "output_type": "stream",
          "name": "stdout",
          "text": [
            "+---+-------------+----------+---+-------+-------------+\n",
            "| id|         name|       dob|age| salary|replaced_name|\n",
            "+---+-------------+----------+---+-------+-------------+\n",
            "|  1|     John Doe|2024-08-01| 23| 1000.5|      Jon Doe|\n",
            "|  2|   Jane Smith|2024-08-02| 25|1500.75|   Jane Smith|\n",
            "|  3|  Bob Johnson|2024-08-03| 18| 3000.1|   Bob Jonson|\n",
            "|  4|  Alice Brown|2024-08-04| 22|2500.25|  Alice Brown|\n",
            "|  5|    David Lee|2024-08-05| 27| 3500.5|    David Lee|\n",
            "|  6|Ayush Pradhan|2024-08-06| 31|2500.45|Ayush Pradhan|\n",
            "+---+-------------+----------+---+-------+-------------+\n",
            "\n"
          ]
        }
      ]
    },
    {
      "cell_type": "code",
      "source": [
        "# 9. count\n",
        "# Counts the number of records in the DataFrame\n",
        "from pyspark.sql.functions import count\n",
        "df_count = df.select(count(\"*\").alias(\"record_count\"))\n",
        "df_count.show()"
      ],
      "metadata": {
        "colab": {
          "base_uri": "https://localhost:8080/"
        },
        "id": "Z03iRJyCRrU1",
        "outputId": "fa1a363c-41ee-4f2b-da30-31808f368a7a"
      },
      "execution_count": 17,
      "outputs": [
        {
          "output_type": "stream",
          "name": "stdout",
          "text": [
            "+------------+\n",
            "|record_count|\n",
            "+------------+\n",
            "|           6|\n",
            "+------------+\n",
            "\n"
          ]
        }
      ]
    },
    {
      "cell_type": "code",
      "source": [
        "# 10. sum\n",
        "#Calculates the total salary.\n",
        "from pyspark.sql.functions import sum\n",
        "df_sum = df.agg(sum(\"salary\").alias(\"total_salary\"))\n",
        "df_sum.show()"
      ],
      "metadata": {
        "colab": {
          "base_uri": "https://localhost:8080/"
        },
        "id": "UXaInvAlR9zd",
        "outputId": "99af03e4-eecf-4061-a4ac-5cbb79f1c9eb"
      },
      "execution_count": 18,
      "outputs": [
        {
          "output_type": "stream",
          "name": "stdout",
          "text": [
            "+------------------+\n",
            "|      total_salary|\n",
            "+------------------+\n",
            "|14002.550000000001|\n",
            "+------------------+\n",
            "\n"
          ]
        }
      ]
    },
    {
      "cell_type": "code",
      "source": [
        "# 11 .avg\n",
        "#Calculates the average age.\n",
        "from pyspark.sql.functions import avg\n",
        "df_avg = df.agg(avg(\"age\").alias(\"average_age\"))\n",
        "df_avg.show()"
      ],
      "metadata": {
        "colab": {
          "base_uri": "https://localhost:8080/"
        },
        "id": "-ZkbKOtxSFZF",
        "outputId": "5a63e17d-6481-4538-9b4d-8554b5687abb"
      },
      "execution_count": 19,
      "outputs": [
        {
          "output_type": "stream",
          "name": "stdout",
          "text": [
            "+------------------+\n",
            "|       average_age|\n",
            "+------------------+\n",
            "|24.333333333333332|\n",
            "+------------------+\n",
            "\n"
          ]
        }
      ]
    },
    {
      "cell_type": "code",
      "source": [
        "# 12 max\n",
        "# finds the maximum salary\n",
        "from pyspark.sql.functions import max\n",
        "df_max = df.agg(max(\"salary\").alias(\"max_salary\"))\n",
        "df_max.show()"
      ],
      "metadata": {
        "colab": {
          "base_uri": "https://localhost:8080/"
        },
        "id": "M9badiNTSKqF",
        "outputId": "60bdd447-cc00-4d36-d7a6-05010514566b"
      },
      "execution_count": 20,
      "outputs": [
        {
          "output_type": "stream",
          "name": "stdout",
          "text": [
            "+----------+\n",
            "|max_salary|\n",
            "+----------+\n",
            "|    3500.5|\n",
            "+----------+\n",
            "\n"
          ]
        }
      ]
    },
    {
      "cell_type": "code",
      "source": [
        "# 13 min\n",
        "# finds the minimum age\n",
        "from pyspark.sql.functions import min\n",
        "df_min = df.agg(min(\"age\").alias(\"min_age\"))\n",
        "df_min.show()"
      ],
      "metadata": {
        "colab": {
          "base_uri": "https://localhost:8080/"
        },
        "id": "zQhrxKt1SR5c",
        "outputId": "14fa2973-07e0-4ee5-eca5-1cb1adf8abb8"
      },
      "execution_count": 21,
      "outputs": [
        {
          "output_type": "stream",
          "name": "stdout",
          "text": [
            "+-------+\n",
            "|min_age|\n",
            "+-------+\n",
            "|     18|\n",
            "+-------+\n",
            "\n"
          ]
        }
      ]
    },
    {
      "cell_type": "code",
      "source": [
        "# 14 round\n",
        "# rounds the salary to the nearest integer\n",
        "from pyspark.sql.functions import round\n",
        "df_round = df.withColumn(\"rounded_salary\", round(col(\"salary\"), 0))\n",
        "df_round.show()"
      ],
      "metadata": {
        "colab": {
          "base_uri": "https://localhost:8080/"
        },
        "id": "1KFTJ7EASX-N",
        "outputId": "a08deafb-47f6-4beb-c828-3c8980ccd867"
      },
      "execution_count": 22,
      "outputs": [
        {
          "output_type": "stream",
          "name": "stdout",
          "text": [
            "+---+-------------+----------+---+-------+--------------+\n",
            "| id|         name|       dob|age| salary|rounded_salary|\n",
            "+---+-------------+----------+---+-------+--------------+\n",
            "|  1|     John Doe|2024-08-01| 23| 1000.5|        1001.0|\n",
            "|  2|   Jane Smith|2024-08-02| 25|1500.75|        1501.0|\n",
            "|  3|  Bob Johnson|2024-08-03| 18| 3000.1|        3000.0|\n",
            "|  4|  Alice Brown|2024-08-04| 22|2500.25|        2500.0|\n",
            "|  5|    David Lee|2024-08-05| 27| 3500.5|        3501.0|\n",
            "|  6|Ayush Pradhan|2024-08-06| 31|2500.45|        2500.0|\n",
            "+---+-------------+----------+---+-------+--------------+\n",
            "\n"
          ]
        }
      ]
    },
    {
      "cell_type": "code",
      "source": [
        "# 15. data_format\n",
        "# Formats the \"dob ( date of birth )\" columns as MM/dd/YY\n",
        "from pyspark.sql.functions import date_format\n",
        "df_format = df.withColumn(\"formatted_dob\", date_format(col(\"dob\"), \"mm/dd/yyyy\"))\n",
        "df_format.show()"
      ],
      "metadata": {
        "colab": {
          "base_uri": "https://localhost:8080/"
        },
        "id": "ZHS9Wk3lSgS8",
        "outputId": "c7893914-309f-4540-cd41-534a266dcd44"
      },
      "execution_count": 23,
      "outputs": [
        {
          "output_type": "stream",
          "name": "stdout",
          "text": [
            "+---+-------------+----------+---+-------+-------------+\n",
            "| id|         name|       dob|age| salary|formatted_dob|\n",
            "+---+-------------+----------+---+-------+-------------+\n",
            "|  1|     John Doe|2024-08-01| 23| 1000.5|   00/01/2024|\n",
            "|  2|   Jane Smith|2024-08-02| 25|1500.75|   00/02/2024|\n",
            "|  3|  Bob Johnson|2024-08-03| 18| 3000.1|   00/03/2024|\n",
            "|  4|  Alice Brown|2024-08-04| 22|2500.25|   00/04/2024|\n",
            "|  5|    David Lee|2024-08-05| 27| 3500.5|   00/05/2024|\n",
            "|  6|Ayush Pradhan|2024-08-06| 31|2500.45|   00/06/2024|\n",
            "+---+-------------+----------+---+-------+-------------+\n",
            "\n"
          ]
        }
      ]
    },
    {
      "cell_type": "code",
      "source": [
        "# 16 current date\n",
        "# adds the current date to the DatAfrAME\n",
        "from pyspark.sql.functions import current_date\n",
        "df_current_date = df.withColumn(\"current_date\", current_date())\n",
        "df_current_date.show()"
      ],
      "metadata": {
        "colab": {
          "base_uri": "https://localhost:8080/"
        },
        "id": "DO89FnF9S84l",
        "outputId": "436c2c1d-ef50-427a-e147-af996c4b598e"
      },
      "execution_count": 24,
      "outputs": [
        {
          "output_type": "stream",
          "name": "stdout",
          "text": [
            "+---+-------------+----------+---+-------+------------+\n",
            "| id|         name|       dob|age| salary|current_date|\n",
            "+---+-------------+----------+---+-------+------------+\n",
            "|  1|     John Doe|2024-08-01| 23| 1000.5|  2025-08-09|\n",
            "|  2|   Jane Smith|2024-08-02| 25|1500.75|  2025-08-09|\n",
            "|  3|  Bob Johnson|2024-08-03| 18| 3000.1|  2025-08-09|\n",
            "|  4|  Alice Brown|2024-08-04| 22|2500.25|  2025-08-09|\n",
            "|  5|    David Lee|2024-08-05| 27| 3500.5|  2025-08-09|\n",
            "|  6|Ayush Pradhan|2024-08-06| 31|2500.45|  2025-08-09|\n",
            "+---+-------------+----------+---+-------+------------+\n",
            "\n"
          ]
        }
      ]
    },
    {
      "cell_type": "code",
      "source": [
        "# 17 CURRENT TIMESTAMP\n",
        "#adds the current timestamp to the DataFrame\n",
        "from pyspark.sql.functions import current_timestamp\n",
        "df_current_timestamp = df.withColumn(\"current_timestamp\", current_timestamp())\n",
        "df_current_timestamp.show()"
      ],
      "metadata": {
        "colab": {
          "base_uri": "https://localhost:8080/"
        },
        "id": "bLz9F9nITX2M",
        "outputId": "6b6aa06a-53d7-468a-a711-5fbeeec1f5c7"
      },
      "execution_count": 25,
      "outputs": [
        {
          "output_type": "stream",
          "name": "stdout",
          "text": [
            "+---+-------------+----------+---+-------+--------------------+\n",
            "| id|         name|       dob|age| salary|   current_timestamp|\n",
            "+---+-------------+----------+---+-------+--------------------+\n",
            "|  1|     John Doe|2024-08-01| 23| 1000.5|2025-08-09 07:53:...|\n",
            "|  2|   Jane Smith|2024-08-02| 25|1500.75|2025-08-09 07:53:...|\n",
            "|  3|  Bob Johnson|2024-08-03| 18| 3000.1|2025-08-09 07:53:...|\n",
            "|  4|  Alice Brown|2024-08-04| 22|2500.25|2025-08-09 07:53:...|\n",
            "|  5|    David Lee|2024-08-05| 27| 3500.5|2025-08-09 07:53:...|\n",
            "|  6|Ayush Pradhan|2024-08-06| 31|2500.45|2025-08-09 07:53:...|\n",
            "+---+-------------+----------+---+-------+--------------------+\n",
            "\n"
          ]
        }
      ]
    },
    {
      "cell_type": "code",
      "source": [
        "# 18 year,month,dayofmonth\n",
        "# Extracts the year,month, and the day from the \"dob\" column\n",
        "from pyspark.sql.functions import year, month, dayofmonth"
      ],
      "metadata": {
        "id": "vX-M8esKTibc"
      },
      "execution_count": 26,
      "outputs": []
    },
    {
      "cell_type": "code",
      "source": [
        "df_year = df.withColumn(\"year\", year(col(\"dob\")))\n",
        "df_year.show()"
      ],
      "metadata": {
        "colab": {
          "base_uri": "https://localhost:8080/"
        },
        "id": "mEDf8_i-UXD8",
        "outputId": "2696c3ff-8317-41cd-8033-b91203025b47"
      },
      "execution_count": 27,
      "outputs": [
        {
          "output_type": "stream",
          "name": "stdout",
          "text": [
            "+---+-------------+----------+---+-------+----+\n",
            "| id|         name|       dob|age| salary|year|\n",
            "+---+-------------+----------+---+-------+----+\n",
            "|  1|     John Doe|2024-08-01| 23| 1000.5|2024|\n",
            "|  2|   Jane Smith|2024-08-02| 25|1500.75|2024|\n",
            "|  3|  Bob Johnson|2024-08-03| 18| 3000.1|2024|\n",
            "|  4|  Alice Brown|2024-08-04| 22|2500.25|2024|\n",
            "|  5|    David Lee|2024-08-05| 27| 3500.5|2024|\n",
            "|  6|Ayush Pradhan|2024-08-06| 31|2500.45|2024|\n",
            "+---+-------------+----------+---+-------+----+\n",
            "\n"
          ]
        }
      ]
    },
    {
      "cell_type": "code",
      "source": [
        "#19 date_add\n",
        "#adds 10 days top the \"dob\" columns\n",
        "from pyspark.sql.functions import date_add\n",
        "df_date_add = df.withColumn(\"date_after_10_days\", date_add(col(\"dob\"), 10))\n",
        "df_date_add.show()"
      ],
      "metadata": {
        "colab": {
          "base_uri": "https://localhost:8080/"
        },
        "id": "XYKI8oghUZnj",
        "outputId": "84cb2eeb-4b17-48dc-8709-ee7c45a0f5c0"
      },
      "execution_count": 28,
      "outputs": [
        {
          "output_type": "stream",
          "name": "stdout",
          "text": [
            "+---+-------------+----------+---+-------+------------------+\n",
            "| id|         name|       dob|age| salary|date_after_10_days|\n",
            "+---+-------------+----------+---+-------+------------------+\n",
            "|  1|     John Doe|2024-08-01| 23| 1000.5|        2024-08-11|\n",
            "|  2|   Jane Smith|2024-08-02| 25|1500.75|        2024-08-12|\n",
            "|  3|  Bob Johnson|2024-08-03| 18| 3000.1|        2024-08-13|\n",
            "|  4|  Alice Brown|2024-08-04| 22|2500.25|        2024-08-14|\n",
            "|  5|    David Lee|2024-08-05| 27| 3500.5|        2024-08-15|\n",
            "|  6|Ayush Pradhan|2024-08-06| 31|2500.45|        2024-08-16|\n",
            "+---+-------------+----------+---+-------+------------------+\n",
            "\n"
          ]
        }
      ]
    },
    {
      "cell_type": "code",
      "source": [
        "# 20 date_sub\n",
        "# subtracts 10 days from the \"dob\" columns\n",
        "from pyspark.sql.functions import date_sub\n",
        "df_date_sub = df.withColumn(\"date_before_10_days\", date_sub(col(\"dob\"), 10))\n",
        "df_date_sub.show()"
      ],
      "metadata": {
        "colab": {
          "base_uri": "https://localhost:8080/"
        },
        "id": "sJet0pECUq0z",
        "outputId": "0713f08b-badc-4550-8028-15424e6e6ff6"
      },
      "execution_count": 29,
      "outputs": [
        {
          "output_type": "stream",
          "name": "stdout",
          "text": [
            "+---+-------------+----------+---+-------+-------------------+\n",
            "| id|         name|       dob|age| salary|date_before_10_days|\n",
            "+---+-------------+----------+---+-------+-------------------+\n",
            "|  1|     John Doe|2024-08-01| 23| 1000.5|         2024-07-22|\n",
            "|  2|   Jane Smith|2024-08-02| 25|1500.75|         2024-07-23|\n",
            "|  3|  Bob Johnson|2024-08-03| 18| 3000.1|         2024-07-24|\n",
            "|  4|  Alice Brown|2024-08-04| 22|2500.25|         2024-07-25|\n",
            "|  5|    David Lee|2024-08-05| 27| 3500.5|         2024-07-26|\n",
            "|  6|Ayush Pradhan|2024-08-06| 31|2500.45|         2024-07-27|\n",
            "+---+-------------+----------+---+-------+-------------------+\n",
            "\n"
          ]
        }
      ]
    },
    {
      "cell_type": "code",
      "source": [
        " ## 21 date diff\n",
        "# calculates the difference in days between the current date and the \"dob\"\n",
        "from pyspark.sql.functions import datediff\n",
        "df_date_diff = df.withColumn(\"days_since_dob\", datediff(current_date(), col(\"dob\")))\n",
        "df_date_diff.show()"
      ],
      "metadata": {
        "colab": {
          "base_uri": "https://localhost:8080/"
        },
        "id": "8SQSdxBg0FSO",
        "outputId": "ec87fd4a-e1cb-46c7-d08c-afed7e5b47ff"
      },
      "execution_count": 31,
      "outputs": [
        {
          "output_type": "stream",
          "name": "stdout",
          "text": [
            "+---+-------------+----------+---+-------+--------------+\n",
            "| id|         name|       dob|age| salary|days_since_dob|\n",
            "+---+-------------+----------+---+-------+--------------+\n",
            "|  1|     John Doe|2024-08-01| 23| 1000.5|           373|\n",
            "|  2|   Jane Smith|2024-08-02| 25|1500.75|           372|\n",
            "|  3|  Bob Johnson|2024-08-03| 18| 3000.1|           371|\n",
            "|  4|  Alice Brown|2024-08-04| 22|2500.25|           370|\n",
            "|  5|    David Lee|2024-08-05| 27| 3500.5|           369|\n",
            "|  6|Ayush Pradhan|2024-08-06| 31|2500.45|           368|\n",
            "+---+-------------+----------+---+-------+--------------+\n",
            "\n"
          ]
        }
      ]
    },
    {
      "cell_type": "code",
      "source": [
        "## 22 to_date\n",
        "#CONVERTS THE\"dob\" column from string to date format\n",
        "from pyspark.sql.functions import to_date\n",
        "df_to_date = df.withColumn(\"dob_as_date\", to_date(col(\"dob\"), \"yyyy-MM-dd\"))\n",
        "df_to_date.show()"
      ],
      "metadata": {
        "colab": {
          "base_uri": "https://localhost:8080/"
        },
        "id": "9xC7kFRV04z9",
        "outputId": "d58b3776-2c1a-426a-d26d-07bc4edbfd25"
      },
      "execution_count": 32,
      "outputs": [
        {
          "output_type": "stream",
          "name": "stdout",
          "text": [
            "+---+-------------+----------+---+-------+-----------+\n",
            "| id|         name|       dob|age| salary|dob_as_date|\n",
            "+---+-------------+----------+---+-------+-----------+\n",
            "|  1|     John Doe|2024-08-01| 23| 1000.5| 2024-08-01|\n",
            "|  2|   Jane Smith|2024-08-02| 25|1500.75| 2024-08-02|\n",
            "|  3|  Bob Johnson|2024-08-03| 18| 3000.1| 2024-08-03|\n",
            "|  4|  Alice Brown|2024-08-04| 22|2500.25| 2024-08-04|\n",
            "|  5|    David Lee|2024-08-05| 27| 3500.5| 2024-08-05|\n",
            "|  6|Ayush Pradhan|2024-08-06| 31|2500.45| 2024-08-06|\n",
            "+---+-------------+----------+---+-------+-----------+\n",
            "\n"
          ]
        }
      ]
    },
    {
      "cell_type": "code",
      "source": [
        "## 23 to_timestamp\n",
        "# converts the \"dob\" column from string to timestamp format\n",
        "from pyspark.sql.functions import to_timestamp\n",
        "df_to_timestamp = df.withColumn(\"dob_as_timestamp\", to_timestamp(col(\"dob\"), \"yyyy-MM-dd\"))\n",
        "df_to_timestamp.show()"
      ],
      "metadata": {
        "colab": {
          "base_uri": "https://localhost:8080/"
        },
        "id": "KdgjSAU91Dcz",
        "outputId": "4ff43424-62ee-434e-df57-19ab77349eb6"
      },
      "execution_count": 35,
      "outputs": [
        {
          "output_type": "stream",
          "name": "stdout",
          "text": [
            "+---+-------------+----------+---+-------+-------------------+\n",
            "| id|         name|       dob|age| salary|   dob_as_timestamp|\n",
            "+---+-------------+----------+---+-------+-------------------+\n",
            "|  1|     John Doe|2024-08-01| 23| 1000.5|2024-08-01 00:00:00|\n",
            "|  2|   Jane Smith|2024-08-02| 25|1500.75|2024-08-02 00:00:00|\n",
            "|  3|  Bob Johnson|2024-08-03| 18| 3000.1|2024-08-03 00:00:00|\n",
            "|  4|  Alice Brown|2024-08-04| 22|2500.25|2024-08-04 00:00:00|\n",
            "|  5|    David Lee|2024-08-05| 27| 3500.5|2024-08-05 00:00:00|\n",
            "|  6|Ayush Pradhan|2024-08-06| 31|2500.45|2024-08-06 00:00:00|\n",
            "+---+-------------+----------+---+-------+-------------------+\n",
            "\n"
          ]
        }
      ]
    },
    {
      "cell_type": "code",
      "source": [
        "## 24 window\n",
        "## Aggregates the salary over a sliding window of one day\n",
        "from pyspark.sql.functions import window\n",
        "df_window = df.withColumn(\"window\",window(col(\"dob\"),\"1 day\"))\n",
        "df_window.show(truncate=False)"
      ],
      "metadata": {
        "colab": {
          "base_uri": "https://localhost:8080/"
        },
        "id": "oJAoZ4fp1c7D",
        "outputId": "2e86cb5e-6acb-40ac-89f3-6f37aacf5f21"
      },
      "execution_count": 45,
      "outputs": [
        {
          "output_type": "stream",
          "name": "stdout",
          "text": [
            "+---+-------------+----------+---+-------+------------------------------------------+\n",
            "|id |name         |dob       |age|salary |window                                    |\n",
            "+---+-------------+----------+---+-------+------------------------------------------+\n",
            "|1  |John Doe     |2024-08-01|23 |1000.5 |{2024-08-01 00:00:00, 2024-08-02 00:00:00}|\n",
            "|2  |Jane Smith   |2024-08-02|25 |1500.75|{2024-08-02 00:00:00, 2024-08-03 00:00:00}|\n",
            "|3  |Bob Johnson  |2024-08-03|18 |3000.1 |{2024-08-03 00:00:00, 2024-08-04 00:00:00}|\n",
            "|4  |Alice Brown  |2024-08-04|22 |2500.25|{2024-08-04 00:00:00, 2024-08-05 00:00:00}|\n",
            "|5  |David Lee    |2024-08-05|27 |3500.5 |{2024-08-05 00:00:00, 2024-08-06 00:00:00}|\n",
            "|6  |Ayush Pradhan|2024-08-06|31 |2500.45|{2024-08-06 00:00:00, 2024-08-07 00:00:00}|\n",
            "+---+-------------+----------+---+-------+------------------------------------------+\n",
            "\n"
          ]
        }
      ]
    },
    {
      "cell_type": "code",
      "source": [
        "# 25 rank, dense_rank , row_number\n",
        "#Applies ranking functions to the salary column.\n",
        "from pyspark.sql.window import Window\n",
        "from pyspark.sql.functions import rank, dense_rank, row_number\n",
        "\n",
        "# Re-create the DataFrame as it seems to have been overwritten\n",
        "data = [\n",
        "    (1, \"John Doe\", \"2024-08-01\", 23, 1000.50),\n",
        "    (2, \"Jane Smith\", \"2024-08-02\", 25, 1500.75),\n",
        "    (3, \"Bob Johnson\", \"2024-08-03\", 18,3000.10),\n",
        "    (4, \"Alice Brown\", \"2024-08-04\", 22, 2500.25),\n",
        "    (5, \"David Lee\", \"2024-08-05\", 27, 3500.50),\n",
        "    (6,\"Ayush Pradhan\",\"2024-08-06\",31,2500.45),\n",
        "]\n",
        "columns = [\"id\", \"name\", \"dob\", \"age\", \"salary\"]\n",
        "df = spark.createDataFrame(data, columns)\n",
        "\n",
        "windowSpec = Window.orderBy(col(\"salary\").desc())\n",
        "df.withColumn(\"rank\", rank().over(windowSpec)).withColumn(\"dense_rank\", dense_rank().over(windowSpec)).withColumn(\"row_number\", row_number().over(windowSpec)).show()"
      ],
      "metadata": {
        "colab": {
          "base_uri": "https://localhost:8080/"
        },
        "id": "vwOvyZA_3B4p",
        "outputId": "214fb3dc-2ed2-44f5-a544-e98ab735f3a3"
      },
      "execution_count": 53,
      "outputs": [
        {
          "output_type": "stream",
          "name": "stdout",
          "text": [
            "+---+-------------+----------+---+-------+----+----------+----------+\n",
            "| id|         name|       dob|age| salary|rank|dense_rank|row_number|\n",
            "+---+-------------+----------+---+-------+----+----------+----------+\n",
            "|  5|    David Lee|2024-08-05| 27| 3500.5|   1|         1|         1|\n",
            "|  3|  Bob Johnson|2024-08-03| 18| 3000.1|   2|         2|         2|\n",
            "|  6|Ayush Pradhan|2024-08-06| 31|2500.45|   3|         3|         3|\n",
            "|  4|  Alice Brown|2024-08-04| 22|2500.25|   4|         4|         4|\n",
            "|  2|   Jane Smith|2024-08-02| 25|1500.75|   5|         5|         5|\n",
            "|  1|     John Doe|2024-08-01| 23| 1000.5|   6|         6|         6|\n",
            "+---+-------------+----------+---+-------+----+----------+----------+\n",
            "\n"
          ]
        }
      ]
    },
    {
      "cell_type": "code",
      "source": [
        "## 26 array\n",
        "## creates a new array column\n",
        "from pyspark.sql.functions import array\n",
        "df_array  = df.withColumn(\"array_column\", array(col(\"id\"),col(\"age\")))\n",
        "df_array.show()"
      ],
      "metadata": {
        "colab": {
          "base_uri": "https://localhost:8080/"
        },
        "id": "jo2X8afI5KX3",
        "outputId": "59b4b042-bce1-4332-ad2c-730c52be9ea3"
      },
      "execution_count": 63,
      "outputs": [
        {
          "output_type": "stream",
          "name": "stdout",
          "text": [
            "+---+-------------+----------+---+-------+------------+\n",
            "| id|         name|       dob|age| salary|array_column|\n",
            "+---+-------------+----------+---+-------+------------+\n",
            "|  1|     John Doe|2024-08-01| 23| 1000.5|     [1, 23]|\n",
            "|  2|   Jane Smith|2024-08-02| 25|1500.75|     [2, 25]|\n",
            "|  3|  Bob Johnson|2024-08-03| 18| 3000.1|     [3, 18]|\n",
            "|  4|  Alice Brown|2024-08-04| 22|2500.25|     [4, 22]|\n",
            "|  5|    David Lee|2024-08-05| 27| 3500.5|     [5, 27]|\n",
            "|  6|Ayush Pradhan|2024-08-06| 31|2500.45|     [6, 31]|\n",
            "+---+-------------+----------+---+-------+------------+\n",
            "\n"
          ]
        }
      ]
    },
    {
      "cell_type": "code",
      "source": [
        "## 27 array_contains\n",
        "## checks if a specified element exits in an array column\n",
        "from pyspark.sql.functions import array_contains\n",
        "df_array_contains = df_array.withColumn(\"contains_id_1\", array_contains(array(col(\"id\")), 1))\n",
        "df_array_contains.show()"
      ],
      "metadata": {
        "colab": {
          "base_uri": "https://localhost:8080/"
        },
        "id": "cea4a0gD5tgu",
        "outputId": "e1de8b7b-e552-491f-b26b-5cb5f98bed1e"
      },
      "execution_count": 64,
      "outputs": [
        {
          "output_type": "stream",
          "name": "stdout",
          "text": [
            "+---+-------------+----------+---+-------+------------+-------------+\n",
            "| id|         name|       dob|age| salary|array_column|contains_id_1|\n",
            "+---+-------------+----------+---+-------+------------+-------------+\n",
            "|  1|     John Doe|2024-08-01| 23| 1000.5|     [1, 23]|         true|\n",
            "|  2|   Jane Smith|2024-08-02| 25|1500.75|     [2, 25]|        false|\n",
            "|  3|  Bob Johnson|2024-08-03| 18| 3000.1|     [3, 18]|        false|\n",
            "|  4|  Alice Brown|2024-08-04| 22|2500.25|     [4, 22]|        false|\n",
            "|  5|    David Lee|2024-08-05| 27| 3500.5|     [5, 27]|        false|\n",
            "|  6|Ayush Pradhan|2024-08-06| 31|2500.45|     [6, 31]|        false|\n",
            "+---+-------------+----------+---+-------+------------+-------------+\n",
            "\n"
          ]
        }
      ]
    },
    {
      "cell_type": "code",
      "source": [
        "##  28 explode\n",
        "## Creates a new row for each element in the given array or map column\n",
        "from pyspark.sql.functions import explode\n",
        "df_explode = df_array.withColumn(\"exploded_array\", explode(array(col(\"id\"),col(\"age\"))))\n",
        "df_explode.show()"
      ],
      "metadata": {
        "colab": {
          "base_uri": "https://localhost:8080/"
        },
        "id": "Dc3tojlI7DkE",
        "outputId": "deb09af5-2c58-4f2d-e52c-7bb1a9ec5e12"
      },
      "execution_count": 66,
      "outputs": [
        {
          "output_type": "stream",
          "name": "stdout",
          "text": [
            "+---+-------------+----------+---+-------+------------+--------------+\n",
            "| id|         name|       dob|age| salary|array_column|exploded_array|\n",
            "+---+-------------+----------+---+-------+------------+--------------+\n",
            "|  1|     John Doe|2024-08-01| 23| 1000.5|     [1, 23]|             1|\n",
            "|  1|     John Doe|2024-08-01| 23| 1000.5|     [1, 23]|            23|\n",
            "|  2|   Jane Smith|2024-08-02| 25|1500.75|     [2, 25]|             2|\n",
            "|  2|   Jane Smith|2024-08-02| 25|1500.75|     [2, 25]|            25|\n",
            "|  3|  Bob Johnson|2024-08-03| 18| 3000.1|     [3, 18]|             3|\n",
            "|  3|  Bob Johnson|2024-08-03| 18| 3000.1|     [3, 18]|            18|\n",
            "|  4|  Alice Brown|2024-08-04| 22|2500.25|     [4, 22]|             4|\n",
            "|  4|  Alice Brown|2024-08-04| 22|2500.25|     [4, 22]|            22|\n",
            "|  5|    David Lee|2024-08-05| 27| 3500.5|     [5, 27]|             5|\n",
            "|  5|    David Lee|2024-08-05| 27| 3500.5|     [5, 27]|            27|\n",
            "|  6|Ayush Pradhan|2024-08-06| 31|2500.45|     [6, 31]|             6|\n",
            "|  6|Ayush Pradhan|2024-08-06| 31|2500.45|     [6, 31]|            31|\n",
            "+---+-------------+----------+---+-------+------------+--------------+\n",
            "\n"
          ]
        }
      ]
    },
    {
      "cell_type": "code",
      "source": [
        "## 29 map  creates a new map column\n",
        "from pyspark.sql.functions import create_map\n",
        "df_map = df.withColumn(\"map_column\", create_map(lit(\"name\"), col(\"name\"), lit(\"age\"), col(\"age\")))\n",
        "df_map.show(truncate=False)"
      ],
      "metadata": {
        "colab": {
          "base_uri": "https://localhost:8080/"
        },
        "id": "vkPtKrFI7fUs",
        "outputId": "98877934-d122-43f0-d6bc-26b68a004c4b"
      },
      "execution_count": 69,
      "outputs": [
        {
          "output_type": "stream",
          "name": "stdout",
          "text": [
            "+---+-------------+----------+---+-------+----------------------------------+\n",
            "|id |name         |dob       |age|salary |map_column                        |\n",
            "+---+-------------+----------+---+-------+----------------------------------+\n",
            "|1  |John Doe     |2024-08-01|23 |1000.5 |{name -> John Doe, age -> 23}     |\n",
            "|2  |Jane Smith   |2024-08-02|25 |1500.75|{name -> Jane Smith, age -> 25}   |\n",
            "|3  |Bob Johnson  |2024-08-03|18 |3000.1 |{name -> Bob Johnson, age -> 18}  |\n",
            "|4  |Alice Brown  |2024-08-04|22 |2500.25|{name -> Alice Brown, age -> 22}  |\n",
            "|5  |David Lee    |2024-08-05|27 |3500.5 |{name -> David Lee, age -> 27}    |\n",
            "|6  |Ayush Pradhan|2024-08-06|31 |2500.45|{name -> Ayush Pradhan, age -> 31}|\n",
            "+---+-------------+----------+---+-------+----------------------------------+\n",
            "\n"
          ]
        }
      ]
    },
    {
      "cell_type": "code",
      "source": [
        "# 30 coalesce\n",
        "#Returns the first non-null value among the given columns.\n",
        "from pyspark.sql.functions import coalesce\n",
        "df_coalesce = df.withColumn(\"coalesced_value\", coalesce(col(\"name\"), col(\"age\")))\n",
        "df_coalesce.show()"
      ],
      "metadata": {
        "colab": {
          "base_uri": "https://localhost:8080/"
        },
        "id": "UqbSgWc18tWb",
        "outputId": "6838c452-3f7a-4b17-b219-9e1d86b74d67"
      },
      "execution_count": 70,
      "outputs": [
        {
          "output_type": "stream",
          "name": "stdout",
          "text": [
            "+---+-------------+----------+---+-------+---------------+\n",
            "| id|         name|       dob|age| salary|coalesced_value|\n",
            "+---+-------------+----------+---+-------+---------------+\n",
            "|  1|     John Doe|2024-08-01| 23| 1000.5|       John Doe|\n",
            "|  2|   Jane Smith|2024-08-02| 25|1500.75|     Jane Smith|\n",
            "|  3|  Bob Johnson|2024-08-03| 18| 3000.1|    Bob Johnson|\n",
            "|  4|  Alice Brown|2024-08-04| 22|2500.25|    Alice Brown|\n",
            "|  5|    David Lee|2024-08-05| 27| 3500.5|      David Lee|\n",
            "|  6|Ayush Pradhan|2024-08-06| 31|2500.45|  Ayush Pradhan|\n",
            "+---+-------------+----------+---+-------+---------------+\n",
            "\n"
          ]
        }
      ]
    },
    {
      "cell_type": "code",
      "source": [
        "#### 31 isnull\n",
        "#Checks if the column is null.\n",
        "from pyspark.sql.functions import isnull\n",
        "df_isnull = df.withColumn(\"is_name_null\", isnull(col(\"name\")))\n",
        "df_isnull.show()"
      ],
      "metadata": {
        "colab": {
          "base_uri": "https://localhost:8080/"
        },
        "id": "y8yGD1MB8-ci",
        "outputId": "7f5fd808-d413-4009-b37b-1ae8b7fabbd2"
      },
      "execution_count": 71,
      "outputs": [
        {
          "output_type": "stream",
          "name": "stdout",
          "text": [
            "+---+-------------+----------+---+-------+------------+\n",
            "| id|         name|       dob|age| salary|is_name_null|\n",
            "+---+-------------+----------+---+-------+------------+\n",
            "|  1|     John Doe|2024-08-01| 23| 1000.5|       false|\n",
            "|  2|   Jane Smith|2024-08-02| 25|1500.75|       false|\n",
            "|  3|  Bob Johnson|2024-08-03| 18| 3000.1|       false|\n",
            "|  4|  Alice Brown|2024-08-04| 22|2500.25|       false|\n",
            "|  5|    David Lee|2024-08-05| 27| 3500.5|       false|\n",
            "|  6|Ayush Pradhan|2024-08-06| 31|2500.45|       false|\n",
            "+---+-------------+----------+---+-------+------------+\n",
            "\n"
          ]
        }
      ]
    },
    {
      "cell_type": "code",
      "source": [
        "## 32 isnan\n",
        "## checks if the column is NaN\n",
        "from pyspark.sql.functions import isnan\n",
        "df_isnan = df.withColumn(\"is_salary_nan\", isnan(col(\"salary\")))\n",
        "df_isnan.show()"
      ],
      "metadata": {
        "colab": {
          "base_uri": "https://localhost:8080/"
        },
        "id": "_GNPN--T9FDK",
        "outputId": "8be4c9f9-f0a7-4a6d-d448-bd8300d87c3f"
      },
      "execution_count": 72,
      "outputs": [
        {
          "output_type": "stream",
          "name": "stdout",
          "text": [
            "+---+-------------+----------+---+-------+-------------+\n",
            "| id|         name|       dob|age| salary|is_salary_nan|\n",
            "+---+-------------+----------+---+-------+-------------+\n",
            "|  1|     John Doe|2024-08-01| 23| 1000.5|        false|\n",
            "|  2|   Jane Smith|2024-08-02| 25|1500.75|        false|\n",
            "|  3|  Bob Johnson|2024-08-03| 18| 3000.1|        false|\n",
            "|  4|  Alice Brown|2024-08-04| 22|2500.25|        false|\n",
            "|  5|    David Lee|2024-08-05| 27| 3500.5|        false|\n",
            "|  6|Ayush Pradhan|2024-08-06| 31|2500.45|        false|\n",
            "+---+-------------+----------+---+-------+-------------+\n",
            "\n"
          ]
        }
      ]
    },
    {
      "cell_type": "code",
      "source": [
        "## 33 sha2\n",
        "## applies the SHA-2 hash functions to the column\n",
        "from pyspark.sql.functions import sha2\n",
        "df_sha2 = df.withColumn(\"sha2_hash\", sha2(col(\"name\"), 256))\n",
        "df_sha2.show()"
      ],
      "metadata": {
        "colab": {
          "base_uri": "https://localhost:8080/"
        },
        "id": "JDTVrelD9XsC",
        "outputId": "9c603a8c-3754-44bc-be38-5518b8bdddc3"
      },
      "execution_count": 73,
      "outputs": [
        {
          "output_type": "stream",
          "name": "stdout",
          "text": [
            "+---+-------------+----------+---+-------+--------------------+\n",
            "| id|         name|       dob|age| salary|           sha2_hash|\n",
            "+---+-------------+----------+---+-------+--------------------+\n",
            "|  1|     John Doe|2024-08-01| 23| 1000.5|6cea57c2fb6cbc2a4...|\n",
            "|  2|   Jane Smith|2024-08-02| 25|1500.75|a2dd3acadb1c9dcd9...|\n",
            "|  3|  Bob Johnson|2024-08-03| 18| 3000.1|63ee5af378b5f3ff4...|\n",
            "|  4|  Alice Brown|2024-08-04| 22|2500.25|f86206bf359a841e1...|\n",
            "|  5|    David Lee|2024-08-05| 27| 3500.5|ce4c3b259cf559b42...|\n",
            "|  6|Ayush Pradhan|2024-08-06| 31|2500.45|1322aea8c7bcc50f0...|\n",
            "+---+-------------+----------+---+-------+--------------------+\n",
            "\n"
          ]
        }
      ]
    },
    {
      "cell_type": "code",
      "source": [
        "# 34 md5\n",
        "#Calculates the MD5 hash of a column.\n",
        "from pyspark.sql.functions import md5\n",
        "df_md5 = df.withColumn(\"md5_hash\", md5(col(\"name\")))\n",
        "df_md5.show(truncate=False)"
      ],
      "metadata": {
        "colab": {
          "base_uri": "https://localhost:8080/"
        },
        "id": "_1nsBc2H9h6C",
        "outputId": "5a8bb1eb-9445-4d7e-c2f9-4808e75ac3d2"
      },
      "execution_count": 74,
      "outputs": [
        {
          "output_type": "stream",
          "name": "stdout",
          "text": [
            "+---+-------------+----------+---+-------+--------------------------------+\n",
            "|id |name         |dob       |age|salary |md5_hash                        |\n",
            "+---+-------------+----------+---+-------+--------------------------------+\n",
            "|1  |John Doe     |2024-08-01|23 |1000.5 |4c2a904bafba06591225113ad17b5cec|\n",
            "|2  |Jane Smith   |2024-08-02|25 |1500.75|71768b5e2a0b3697eb3c0c6d4ebbbaf8|\n",
            "|3  |Bob Johnson  |2024-08-03|18 |3000.1 |1018deacd9ac4ed7b69c8d393c553459|\n",
            "|4  |Alice Brown  |2024-08-04|22 |2500.25|c6d12fbafcefab0e3974d56e590d54ef|\n",
            "|5  |David Lee    |2024-08-05|27 |3500.5 |972735291e9dae3b229865e06664c59f|\n",
            "|6  |Ayush Pradhan|2024-08-06|31 |2500.45|e5bf61efff2fe866d96d45a0246f66a7|\n",
            "+---+-------------+----------+---+-------+--------------------------------+\n",
            "\n"
          ]
        }
      ]
    },
    {
      "cell_type": "code",
      "source": [
        "## 35 monotonically_increasing_id\n",
        "## generates a unique, monotonically increasing 64-bit integer for each row\n",
        "from pyspark.sql.functions import monotonically_increasing_id\n",
        "df_monotonically_increasing_id = df.withColumn(\"monotonically_increasing_id\", monotonically_increasing_id())\n",
        "df_monotonically_increasing_id.show()"
      ],
      "metadata": {
        "colab": {
          "base_uri": "https://localhost:8080/"
        },
        "id": "FDoCEUhQ9sqB",
        "outputId": "d693d485-c361-41d1-b75d-129444b14d7c"
      },
      "execution_count": 75,
      "outputs": [
        {
          "output_type": "stream",
          "name": "stdout",
          "text": [
            "+---+-------------+----------+---+-------+---------------------------+\n",
            "| id|         name|       dob|age| salary|monotonically_increasing_id|\n",
            "+---+-------------+----------+---+-------+---------------------------+\n",
            "|  1|     John Doe|2024-08-01| 23| 1000.5|                          0|\n",
            "|  2|   Jane Smith|2024-08-02| 25|1500.75|                          1|\n",
            "|  3|  Bob Johnson|2024-08-03| 18| 3000.1|                          2|\n",
            "|  4|  Alice Brown|2024-08-04| 22|2500.25|                 8589934592|\n",
            "|  5|    David Lee|2024-08-05| 27| 3500.5|                 8589934593|\n",
            "|  6|Ayush Pradhan|2024-08-06| 31|2500.45|                 8589934594|\n",
            "+---+-------------+----------+---+-------+---------------------------+\n",
            "\n"
          ]
        }
      ]
    },
    {
      "cell_type": "code",
      "source": [
        "## 36 length\n",
        "## Returns the length of a string column\n",
        "from pyspark.sql.functions import length\n",
        "df_length = df.withColumn(\"name_length\", length(col(\"name\")))\n",
        "df_length.show()"
      ],
      "metadata": {
        "colab": {
          "base_uri": "https://localhost:8080/"
        },
        "id": "Gymg8nFh-cyB",
        "outputId": "e0757490-ee28-4176-e1f3-bd8f20945a35"
      },
      "execution_count": 77,
      "outputs": [
        {
          "output_type": "stream",
          "name": "stdout",
          "text": [
            "+---+-------------+----------+---+-------+-----------+\n",
            "| id|         name|       dob|age| salary|name_length|\n",
            "+---+-------------+----------+---+-------+-----------+\n",
            "|  1|     John Doe|2024-08-01| 23| 1000.5|          8|\n",
            "|  2|   Jane Smith|2024-08-02| 25|1500.75|         10|\n",
            "|  3|  Bob Johnson|2024-08-03| 18| 3000.1|         11|\n",
            "|  4|  Alice Brown|2024-08-04| 22|2500.25|         11|\n",
            "|  5|    David Lee|2024-08-05| 27| 3500.5|          9|\n",
            "|  6|Ayush Pradhan|2024-08-06| 31|2500.45|         13|\n",
            "+---+-------------+----------+---+-------+-----------+\n",
            "\n"
          ]
        }
      ]
    },
    {
      "cell_type": "code",
      "source": [
        "## 37 upper and lower\n",
        "## CONVERTS ALL CHARACTERS OF A STRING  COLUMN TO UPPER OR LOWER CASE\n",
        "from pyspark.sql.functions import upper, lower\n",
        "df_upper = df.withColumn(\"upper_name\", upper(col(\"name\")))\n",
        "df_lower = df.withColumn(\"lower_name\", lower(col(\"name\")))\n",
        "df_upper.show()"
      ],
      "metadata": {
        "colab": {
          "base_uri": "https://localhost:8080/"
        },
        "id": "cCUm94ls-pnR",
        "outputId": "da81e254-9da0-4c46-a052-de9e48ebf2a8"
      },
      "execution_count": 78,
      "outputs": [
        {
          "output_type": "stream",
          "name": "stdout",
          "text": [
            "+---+-------------+----------+---+-------+-------------+\n",
            "| id|         name|       dob|age| salary|   upper_name|\n",
            "+---+-------------+----------+---+-------+-------------+\n",
            "|  1|     John Doe|2024-08-01| 23| 1000.5|     JOHN DOE|\n",
            "|  2|   Jane Smith|2024-08-02| 25|1500.75|   JANE SMITH|\n",
            "|  3|  Bob Johnson|2024-08-03| 18| 3000.1|  BOB JOHNSON|\n",
            "|  4|  Alice Brown|2024-08-04| 22|2500.25|  ALICE BROWN|\n",
            "|  5|    David Lee|2024-08-05| 27| 3500.5|    DAVID LEE|\n",
            "|  6|Ayush Pradhan|2024-08-06| 31|2500.45|AYUSH PRADHAN|\n",
            "+---+-------------+----------+---+-------+-------------+\n",
            "\n"
          ]
        }
      ]
    },
    {
      "cell_type": "code",
      "source": [
        "### 38 trim, ltrim, rtrim\n",
        "#Trims spaces from both sides, left side, or right side of a string column.\n",
        "\n",
        "from pyspark.sql.functions import trim, ltrim, rtrim\n",
        "\"\"\"\n",
        "df_trim = df.withColumn(\"trimmed_name\", trim(col(\"name\")))\n",
        "df_trim.show()\n",
        "\n",
        "df_ltrim = df.withColumn(\"ltrimmed_name\", ltrim(col(\"name\")))\n",
        "df_ltrim.show()\n",
        "\n",
        "df_rtrim = df.withColumn(\"rtrimmed_name\", rtrim(col(\"name\")))\n",
        "df_rtrim.show()\n",
        "\"\"\"\n",
        "from pyspark.sql.functions import trim, ltrim, rtrim\n",
        "df_all = df.withColumn(\"name_trimmed\", trim(col(\"name\"))).withColumn(\"name_ltrimmed\", ltrim(col(\"name\"))).withColumn(\"name_rtrimmed\", rtrim(col(\"name\")))\n",
        "df_all.show()"
      ],
      "metadata": {
        "colab": {
          "base_uri": "https://localhost:8080/"
        },
        "id": "EDLD0c0q-9JY",
        "outputId": "33942069-51cb-429e-d138-6ff9f916586e"
      },
      "execution_count": 79,
      "outputs": [
        {
          "output_type": "stream",
          "name": "stdout",
          "text": [
            "+---+-------------+----------+---+-------+-------------+-------------+-------------+\n",
            "| id|         name|       dob|age| salary| name_trimmed|name_ltrimmed|name_rtrimmed|\n",
            "+---+-------------+----------+---+-------+-------------+-------------+-------------+\n",
            "|  1|     John Doe|2024-08-01| 23| 1000.5|     John Doe|     John Doe|     John Doe|\n",
            "|  2|   Jane Smith|2024-08-02| 25|1500.75|   Jane Smith|   Jane Smith|   Jane Smith|\n",
            "|  3|  Bob Johnson|2024-08-03| 18| 3000.1|  Bob Johnson|  Bob Johnson|  Bob Johnson|\n",
            "|  4|  Alice Brown|2024-08-04| 22|2500.25|  Alice Brown|  Alice Brown|  Alice Brown|\n",
            "|  5|    David Lee|2024-08-05| 27| 3500.5|    David Lee|    David Lee|    David Lee|\n",
            "|  6|Ayush Pradhan|2024-08-06| 31|2500.45|Ayush Pradhan|Ayush Pradhan|Ayush Pradhan|\n",
            "+---+-------------+----------+---+-------+-------------+-------------+-------------+\n",
            "\n"
          ]
        }
      ]
    },
    {
      "cell_type": "code",
      "source": [
        "\n",
        "# 39 abs\n",
        "#Returns the absolute value of a numeric column.\n",
        "from pyspark.sql.functions import abs\n",
        "#df_abs = df.withColumn(\"absolute_age\", abs(col(\"age\")))\n",
        "#df_abs.show()\n",
        "from pyspark.sql.functions import abs\n",
        "df_abs = df.withColumn(\"abs_salary\", abs(col(\"salary\") - 3000))\n",
        "df_abs.show()\n"
      ],
      "metadata": {
        "colab": {
          "base_uri": "https://localhost:8080/"
        },
        "id": "4tb37rXI_Dh4",
        "outputId": "e7f50509-53df-4a59-f8db-bbf2e92ff570"
      },
      "execution_count": 81,
      "outputs": [
        {
          "output_type": "stream",
          "name": "stdout",
          "text": [
            "+---+-------------+----------+---+-------+-------------------+\n",
            "| id|         name|       dob|age| salary|         abs_salary|\n",
            "+---+-------------+----------+---+-------+-------------------+\n",
            "|  1|     John Doe|2024-08-01| 23| 1000.5|             1999.5|\n",
            "|  2|   Jane Smith|2024-08-02| 25|1500.75|            1499.25|\n",
            "|  3|  Bob Johnson|2024-08-03| 18| 3000.1|0.09999999999990905|\n",
            "|  4|  Alice Brown|2024-08-04| 22|2500.25|             499.75|\n",
            "|  5|    David Lee|2024-08-05| 27| 3500.5|              500.5|\n",
            "|  6|Ayush Pradhan|2024-08-06| 31|2500.45|  499.5500000000002|\n",
            "+---+-------------+----------+---+-------+-------------------+\n",
            "\n"
          ]
        }
      ]
    },
    {
      "cell_type": "code",
      "source": [
        "# 40 sqrt\n",
        "#Returns the square root of a numeric column.\n",
        "from pyspark.sql.functions import sqrt\n",
        "df_sqrt = df.withColumn(\"sqrt_age\", sqrt(col(\"age\")))\n",
        "df_sqrt.show()\n"
      ],
      "metadata": {
        "colab": {
          "base_uri": "https://localhost:8080/"
        },
        "id": "Ifg82xPR_L_o",
        "outputId": "7735fedc-e593-492f-e033-69c84921d446"
      },
      "execution_count": 82,
      "outputs": [
        {
          "output_type": "stream",
          "name": "stdout",
          "text": [
            "+---+-------------+----------+---+-------+------------------+\n",
            "| id|         name|       dob|age| salary|          sqrt_age|\n",
            "+---+-------------+----------+---+-------+------------------+\n",
            "|  1|     John Doe|2024-08-01| 23| 1000.5| 4.795831523312719|\n",
            "|  2|   Jane Smith|2024-08-02| 25|1500.75|               5.0|\n",
            "|  3|  Bob Johnson|2024-08-03| 18| 3000.1| 4.242640687119285|\n",
            "|  4|  Alice Brown|2024-08-04| 22|2500.25|  4.69041575982343|\n",
            "|  5|    David Lee|2024-08-05| 27| 3500.5| 5.196152422706632|\n",
            "|  6|Ayush Pradhan|2024-08-06| 31|2500.45|5.5677643628300215|\n",
            "+---+-------------+----------+---+-------+------------------+\n",
            "\n"
          ]
        }
      ]
    },
    {
      "cell_type": "code",
      "source": [
        "# 41 exp\n",
        "#Computes the exponential of the given column.\n",
        "\n",
        "from pyspark.sql.functions import exp\n",
        "\n",
        "#df_exp = df.withColumn(\"exp_salary\", exp(col(\"salary\")))\n",
        "#df_exp.show()\n",
        "\n",
        "from pyspark.sql.functions import exp\n",
        "\n",
        "df_exp= df.withColumn(\"exp_age\", exp(col(\"age\")))\n",
        "df_exp.show()\n"
      ],
      "metadata": {
        "colab": {
          "base_uri": "https://localhost:8080/"
        },
        "id": "UrCq7sjq_UUv",
        "outputId": "6972842c-29e3-4598-9439-356e84eb7cb5"
      },
      "execution_count": 83,
      "outputs": [
        {
          "output_type": "stream",
          "name": "stdout",
          "text": [
            "+---+-------------+----------+---+-------+--------------------+\n",
            "| id|         name|       dob|age| salary|             exp_age|\n",
            "+---+-------------+----------+---+-------+--------------------+\n",
            "|  1|     John Doe|2024-08-01| 23| 1000.5| 9.744803446248903E9|\n",
            "|  2|   Jane Smith|2024-08-02| 25|1500.75|7.200489933738588E10|\n",
            "|  3|  Bob Johnson|2024-08-03| 18| 3000.1| 6.565996913733051E7|\n",
            "|  4|  Alice Brown|2024-08-04| 22|2500.25| 3.584912846131592E9|\n",
            "|  5|    David Lee|2024-08-05| 27| 3500.5|5.320482406017986...|\n",
            "|  6|Ayush Pradhan|2024-08-06| 31|2500.45|2.904884966524742...|\n",
            "+---+-------------+----------+---+-------+--------------------+\n",
            "\n"
          ]
        }
      ]
    },
    {
      "cell_type": "code",
      "source": [
        "# 42 log, log10, log2\n",
        "#Computes the logarithm of the column using a base of e, 10, or 2.\n",
        "\n",
        "from pyspark.sql.functions import log, log10, log2\n",
        "\n",
        "#df_log = df.withColumn(\"log_salary\", log(col(\"salary\")))\n",
        "#df_log.show()\n",
        "\n",
        "#df_log = df.withColumn(\"log_salary\", log10(col(\"salary\")))\n",
        "#df_log.show()\n",
        "\n",
        "#df_log = df.withColumn(\"log_salary\", log2(col(\"salary\")))\n",
        "#df_log.show()\n",
        "\n",
        "df_all = df.withColumn(\"log_age\", log(col(\"age\"))).withColumn(\"log10_age\", log10(col(\"age\"))).withColumn(\"log2_age\", log2(col(\"age\")))\n",
        "df_all.show()"
      ],
      "metadata": {
        "colab": {
          "base_uri": "https://localhost:8080/"
        },
        "id": "s_DnUSEAAVdP",
        "outputId": "735dae4f-a966-4c8b-9454-75f385d80de1"
      },
      "execution_count": 84,
      "outputs": [
        {
          "output_type": "stream",
          "name": "stdout",
          "text": [
            "+---+-------------+----------+---+-------+------------------+------------------+-----------------+\n",
            "| id|         name|       dob|age| salary|           log_age|         log10_age|         log2_age|\n",
            "+---+-------------+----------+---+-------+------------------+------------------+-----------------+\n",
            "|  1|     John Doe|2024-08-01| 23| 1000.5|3.1354942159291497|1.3617278360175928|4.523561956057013|\n",
            "|  2|   Jane Smith|2024-08-02| 25|1500.75|3.2188758248682006|1.3979400086720377|4.643856189774724|\n",
            "|  3|  Bob Johnson|2024-08-03| 18| 3000.1|2.8903717578961645| 1.255272505103306|4.169925001442312|\n",
            "|  4|  Alice Brown|2024-08-04| 22|2500.25| 3.091042453358316|1.3424226808222062|4.459431618637297|\n",
            "|  5|    David Lee|2024-08-05| 27| 3500.5| 3.295836866004329|1.4313637641589874|4.754887502163469|\n",
            "|  6|Ayush Pradhan|2024-08-06| 31|2500.45|3.4339872044851463|1.4913616938342726|4.954196310386876|\n",
            "+---+-------------+----------+---+-------+------------------+------------------+-----------------+\n",
            "\n"
          ]
        }
      ]
    },
    {
      "cell_type": "code",
      "source": [
        "# 43 greatest and least\n",
        "#Returns the greatest or least value of the list of columns.\n",
        "\n",
        "from pyspark.sql.functions import greatest, least\n",
        "\n",
        "df_greatest = df.withColumn(\"greatest_value\", greatest(col(\"id\"), col(\"age\")))\n",
        "print(df_greatest.show())\n",
        "\n",
        "df_least = df.withColumn(\"least_value\", least(col(\"id\"), col(\"age\")))\n",
        "print(df_least.show())\n",
        "\n",
        "#df_all = df.withColumn(\"max_value\", greatest(col(\"age\"), col(\"salary\"))).withColumn(\"min_value\", least(col(\"age\"), col(\"salary\")))\n",
        "#df_all.show()\n"
      ],
      "metadata": {
        "colab": {
          "base_uri": "https://localhost:8080/"
        },
        "id": "IcdTndMQAaUf",
        "outputId": "17ac4468-4703-4200-d31c-c7a4702086d9"
      },
      "execution_count": 85,
      "outputs": [
        {
          "output_type": "stream",
          "name": "stdout",
          "text": [
            "+---+-------------+----------+---+-------+--------------+\n",
            "| id|         name|       dob|age| salary|greatest_value|\n",
            "+---+-------------+----------+---+-------+--------------+\n",
            "|  1|     John Doe|2024-08-01| 23| 1000.5|            23|\n",
            "|  2|   Jane Smith|2024-08-02| 25|1500.75|            25|\n",
            "|  3|  Bob Johnson|2024-08-03| 18| 3000.1|            18|\n",
            "|  4|  Alice Brown|2024-08-04| 22|2500.25|            22|\n",
            "|  5|    David Lee|2024-08-05| 27| 3500.5|            27|\n",
            "|  6|Ayush Pradhan|2024-08-06| 31|2500.45|            31|\n",
            "+---+-------------+----------+---+-------+--------------+\n",
            "\n",
            "None\n",
            "+---+-------------+----------+---+-------+-----------+\n",
            "| id|         name|       dob|age| salary|least_value|\n",
            "+---+-------------+----------+---+-------+-----------+\n",
            "|  1|     John Doe|2024-08-01| 23| 1000.5|          1|\n",
            "|  2|   Jane Smith|2024-08-02| 25|1500.75|          2|\n",
            "|  3|  Bob Johnson|2024-08-03| 18| 3000.1|          3|\n",
            "|  4|  Alice Brown|2024-08-04| 22|2500.25|          4|\n",
            "|  5|    David Lee|2024-08-05| 27| 3500.5|          5|\n",
            "|  6|Ayush Pradhan|2024-08-06| 31|2500.45|          6|\n",
            "+---+-------------+----------+---+-------+-----------+\n",
            "\n",
            "None\n"
          ]
        }
      ]
    },
    {
      "cell_type": "code",
      "source": [
        "\n",
        "# 44 pow\n",
        "#Raises the value of a column to the power of another column.\n",
        "\n",
        "from pyspark.sql.functions import pow\n",
        "\n",
        "df_pow = df.withColumn(\"pow_result\", pow(col(\"id\"), col(\"age\")))\n",
        "df_pow.show(truncate=False)\n",
        ""
      ],
      "metadata": {
        "colab": {
          "base_uri": "https://localhost:8080/"
        },
        "id": "u1MSub6fAdk3",
        "outputId": "70db8813-63c5-4f1b-fe58-73e2c646e03f"
      },
      "execution_count": 86,
      "outputs": [
        {
          "output_type": "stream",
          "name": "stdout",
          "text": [
            "+---+-------------+----------+---+-------+---------------------+\n",
            "|id |name         |dob       |age|salary |pow_result           |\n",
            "+---+-------------+----------+---+-------+---------------------+\n",
            "|1  |John Doe     |2024-08-01|23 |1000.5 |1.0                  |\n",
            "|2  |Jane Smith   |2024-08-02|25 |1500.75|3.3554432E7          |\n",
            "|3  |Bob Johnson  |2024-08-03|18 |3000.1 |3.87420489E8         |\n",
            "|4  |Alice Brown  |2024-08-04|22 |2500.25|1.7592186044416E13   |\n",
            "|5  |David Lee    |2024-08-05|27 |3500.5 |7.4505805969238282E18|\n",
            "|6  |Ayush Pradhan|2024-08-06|31 |2500.45|1.3264435183244001E24|\n",
            "+---+-------------+----------+---+-------+---------------------+\n",
            "\n"
          ]
        }
      ]
    },
    {
      "cell_type": "code",
      "source": [
        "# 45 round, bround\n",
        "#Rounds the value of the column to the nearest integer or to the nearest integer with ties broken by rounding away from zero.\n",
        "\n",
        "from pyspark.sql.functions import round, bround\n",
        "\n",
        "df_round = df.withColumn(\"rounded_salary\", round(col(\"salary\"), 0))\n",
        "print(df_round.show())\n",
        "\n",
        "df_bround = df.withColumn(\"brounded_salary\", bround(col(\"salary\"), 0))\n",
        "print(df_bround.show())\n",
        "\n",
        "#df_all = df.withColumn(\"rounded_salary\", round(col(\"salary\"), 0)).withColumn(\"brounded_salary\", bround(col(\"salary\"), 0))\n",
        "#df_all.show()"
      ],
      "metadata": {
        "colab": {
          "base_uri": "https://localhost:8080/"
        },
        "id": "fcGCvRCNAiTH",
        "outputId": "4998fefe-56b6-4e8e-aebf-395616d5a83d"
      },
      "execution_count": 87,
      "outputs": [
        {
          "output_type": "stream",
          "name": "stdout",
          "text": [
            "+---+-------------+----------+---+-------+--------------+\n",
            "| id|         name|       dob|age| salary|rounded_salary|\n",
            "+---+-------------+----------+---+-------+--------------+\n",
            "|  1|     John Doe|2024-08-01| 23| 1000.5|        1001.0|\n",
            "|  2|   Jane Smith|2024-08-02| 25|1500.75|        1501.0|\n",
            "|  3|  Bob Johnson|2024-08-03| 18| 3000.1|        3000.0|\n",
            "|  4|  Alice Brown|2024-08-04| 22|2500.25|        2500.0|\n",
            "|  5|    David Lee|2024-08-05| 27| 3500.5|        3501.0|\n",
            "|  6|Ayush Pradhan|2024-08-06| 31|2500.45|        2500.0|\n",
            "+---+-------------+----------+---+-------+--------------+\n",
            "\n",
            "None\n",
            "+---+-------------+----------+---+-------+---------------+\n",
            "| id|         name|       dob|age| salary|brounded_salary|\n",
            "+---+-------------+----------+---+-------+---------------+\n",
            "|  1|     John Doe|2024-08-01| 23| 1000.5|         1000.0|\n",
            "|  2|   Jane Smith|2024-08-02| 25|1500.75|         1501.0|\n",
            "|  3|  Bob Johnson|2024-08-03| 18| 3000.1|         3000.0|\n",
            "|  4|  Alice Brown|2024-08-04| 22|2500.25|         2500.0|\n",
            "|  5|    David Lee|2024-08-05| 27| 3500.5|         3500.0|\n",
            "|  6|Ayush Pradhan|2024-08-06| 31|2500.45|         2500.0|\n",
            "+---+-------------+----------+---+-------+---------------+\n",
            "\n",
            "None\n"
          ]
        }
      ]
    },
    {
      "cell_type": "code",
      "source": [
        "# 46 degrees, radians\n",
        "#Converts an angle from radians to degrees or from degrees to radians.\n",
        "\n",
        "from pyspark.sql.functions import degrees, radians\n",
        "\n",
        "df_degrees = df.withColumn(\"degrees_value\", degrees(col(\"age\")))\n",
        "print(df_degrees.show())\n",
        "\n",
        "df_radians = df.withColumn(\"radians_value\", radians(col(\"age\")))\n",
        "print(df_radians.show())\n",
        "\n",
        "#df_all = df.withColumn(\"degrees_value\", degrees(col(\"age\"))).withColumn(\"radians_value\", radians(col(\"age\")))\n",
        "#df_all.show()\n"
      ],
      "metadata": {
        "colab": {
          "base_uri": "https://localhost:8080/"
        },
        "id": "u6Q4mRCKAlTH",
        "outputId": "f3720c73-90c8-4cb0-d9ba-bee46ca076f9"
      },
      "execution_count": 88,
      "outputs": [
        {
          "output_type": "stream",
          "name": "stdout",
          "text": [
            "+---+-------------+----------+---+-------+------------------+\n",
            "| id|         name|       dob|age| salary|     degrees_value|\n",
            "+---+-------------+----------+---+-------+------------------+\n",
            "|  1|     John Doe|2024-08-01| 23| 1000.5|1317.8029288008934|\n",
            "|  2|   Jane Smith|2024-08-02| 25|1500.75|1432.3944878270581|\n",
            "|  3|  Bob Johnson|2024-08-03| 18| 3000.1| 1031.324031235482|\n",
            "|  4|  Alice Brown|2024-08-04| 22|2500.25| 1260.507149287811|\n",
            "|  5|    David Lee|2024-08-05| 27| 3500.5|1546.9860468532227|\n",
            "|  6|Ayush Pradhan|2024-08-06| 31|2500.45| 1776.169164905552|\n",
            "+---+-------------+----------+---+-------+------------------+\n",
            "\n",
            "None\n",
            "+---+-------------+----------+---+-------+-------------------+\n",
            "| id|         name|       dob|age| salary|      radians_value|\n",
            "+---+-------------+----------+---+-------+-------------------+\n",
            "|  1|     John Doe|2024-08-01| 23| 1000.5| 0.4014257279586958|\n",
            "|  2|   Jane Smith|2024-08-02| 25|1500.75| 0.4363323129985824|\n",
            "|  3|  Bob Johnson|2024-08-03| 18| 3000.1| 0.3141592653589793|\n",
            "|  4|  Alice Brown|2024-08-04| 22|2500.25| 0.3839724354387525|\n",
            "|  5|    David Lee|2024-08-05| 27| 3500.5|0.47123889803846897|\n",
            "|  6|Ayush Pradhan|2024-08-06| 31|2500.45| 0.5410520681182421|\n",
            "+---+-------------+----------+---+-------+-------------------+\n",
            "\n",
            "None\n"
          ]
        }
      ]
    },
    {
      "cell_type": "code",
      "source": [
        "# 47 signum\n",
        "#Computes the signum of a number: -1 if it's negative, 0 if it's zero, and 1 if it's positive.\n",
        "from pyspark.sql.functions import signum\n",
        "df_signum = df.withColumn(\"signum_value\", signum(col(\"age\")))\n",
        "df_signum.show()\n",
        ""
      ],
      "metadata": {
        "colab": {
          "base_uri": "https://localhost:8080/"
        },
        "id": "lLliW9InApRP",
        "outputId": "67d2d8cb-70c8-4226-ddb8-ae5509b89556"
      },
      "execution_count": 92,
      "outputs": [
        {
          "output_type": "stream",
          "name": "stdout",
          "text": [
            "+---+-------------+----------+---+-------+------------+\n",
            "| id|         name|       dob|age| salary|signum_value|\n",
            "+---+-------------+----------+---+-------+------------+\n",
            "|  1|     John Doe|2024-08-01| 23| 1000.5|         1.0|\n",
            "|  2|   Jane Smith|2024-08-02| 25|1500.75|         1.0|\n",
            "|  3|  Bob Johnson|2024-08-03| 18| 3000.1|         1.0|\n",
            "|  4|  Alice Brown|2024-08-04| 22|2500.25|         1.0|\n",
            "|  5|    David Lee|2024-08-05| 27| 3500.5|         1.0|\n",
            "|  6|Ayush Pradhan|2024-08-06| 31|2500.45|         1.0|\n",
            "+---+-------------+----------+---+-------+------------+\n",
            "\n"
          ]
        }
      ]
    },
    {
      "cell_type": "code",
      "source": [
        "# 48 hex, unhex\n",
        "#Converts a column to hexadecimal and back.\n",
        "from pyspark.sql.functions import hex, unhex\n",
        "# Create the 'hex_value' column within the 'df' DataFrame\n",
        "#df = df.withColumn(\"hex_value\", hex(col(\"age\")))\n",
        "#print(df.show())\n",
        "#df_unhex = df.withColumn(\"unhex_value\", unhex(col(\"hex_value\")))\n",
        "#print(df_unhex.show())\n",
        "from pyspark.sql.functions import hex, unhex\n",
        "df_all= df.withColumn(\"hex_name\", hex(col(\"id\"))).withColumn(\"unhex_name\", unhex(hex(col(\"id\"))))\n",
        "df_all.show()"
      ],
      "metadata": {
        "colab": {
          "base_uri": "https://localhost:8080/"
        },
        "id": "HPzvLrdyAr3X",
        "outputId": "e0656d1b-3d45-4a9e-d0d2-f9d594cc751f"
      },
      "execution_count": 94,
      "outputs": [
        {
          "output_type": "stream",
          "name": "stdout",
          "text": [
            "+---+-------------+----------+---+-------+--------+----------+\n",
            "| id|         name|       dob|age| salary|hex_name|unhex_name|\n",
            "+---+-------------+----------+---+-------+--------+----------+\n",
            "|  1|     John Doe|2024-08-01| 23| 1000.5|       1|      [01]|\n",
            "|  2|   Jane Smith|2024-08-02| 25|1500.75|       2|      [02]|\n",
            "|  3|  Bob Johnson|2024-08-03| 18| 3000.1|       3|      [03]|\n",
            "|  4|  Alice Brown|2024-08-04| 22|2500.25|       4|      [04]|\n",
            "|  5|    David Lee|2024-08-05| 27| 3500.5|       5|      [05]|\n",
            "|  6|Ayush Pradhan|2024-08-06| 31|2500.45|       6|      [06]|\n",
            "+---+-------------+----------+---+-------+--------+----------+\n",
            "\n"
          ]
        }
      ]
    },
    {
      "cell_type": "code",
      "source": [
        "# 49  nvl, nvl2\n",
        "#Replaces null values with the specified value.\n",
        "from pyspark.sql.functions import nvl, nvl2, col\n",
        "df_nvl = df.withColumn(\"nvl_age\", nvl(col(\"age\"), col(\"id\"))) # Replace 0 with a column object\n",
        "print(df_nvl.show())\n",
        "df_nvl2 = df.withColumn(\"nvl2_age\", nvl2(col(\"age\"), col(\"id\"), col(\"salary\"))) # Replace 0 and 10 with column objects\n",
        "print(df_nvl2.show())\n",
        "# df_all = df.withColumn(\"nvl_column\", expr(\"nvl(null, 'default')\"))\n",
        "# df_all.show()"
      ],
      "metadata": {
        "colab": {
          "base_uri": "https://localhost:8080/"
        },
        "id": "mj6OapZHA8ve",
        "outputId": "bc6be495-23af-432b-8daa-d131f7f5b902"
      },
      "execution_count": 95,
      "outputs": [
        {
          "output_type": "stream",
          "name": "stdout",
          "text": [
            "+---+-------------+----------+---+-------+-------+\n",
            "| id|         name|       dob|age| salary|nvl_age|\n",
            "+---+-------------+----------+---+-------+-------+\n",
            "|  1|     John Doe|2024-08-01| 23| 1000.5|     23|\n",
            "|  2|   Jane Smith|2024-08-02| 25|1500.75|     25|\n",
            "|  3|  Bob Johnson|2024-08-03| 18| 3000.1|     18|\n",
            "|  4|  Alice Brown|2024-08-04| 22|2500.25|     22|\n",
            "|  5|    David Lee|2024-08-05| 27| 3500.5|     27|\n",
            "|  6|Ayush Pradhan|2024-08-06| 31|2500.45|     31|\n",
            "+---+-------------+----------+---+-------+-------+\n",
            "\n",
            "None\n",
            "+---+-------------+----------+---+-------+--------+\n",
            "| id|         name|       dob|age| salary|nvl2_age|\n",
            "+---+-------------+----------+---+-------+--------+\n",
            "|  1|     John Doe|2024-08-01| 23| 1000.5|     1.0|\n",
            "|  2|   Jane Smith|2024-08-02| 25|1500.75|     2.0|\n",
            "|  3|  Bob Johnson|2024-08-03| 18| 3000.1|     3.0|\n",
            "|  4|  Alice Brown|2024-08-04| 22|2500.25|     4.0|\n",
            "|  5|    David Lee|2024-08-05| 27| 3500.5|     5.0|\n",
            "|  6|Ayush Pradhan|2024-08-06| 31|2500.45|     6.0|\n",
            "+---+-------------+----------+---+-------+--------+\n",
            "\n",
            "None\n"
          ]
        }
      ]
    },
    {
      "cell_type": "code",
      "source": [
        "# 50 reverse\n",
        "#Reverses the string in a column.\n",
        "from pyspark.sql.functions import reverse\n",
        "df_reverse = df.withColumn(\"reversed_name\", reverse(col(\"name\")))\n",
        "df_reverse.show()"
      ],
      "metadata": {
        "colab": {
          "base_uri": "https://localhost:8080/"
        },
        "id": "N85mQDZtBDiv",
        "outputId": "a823ffb4-91ef-4581-da0a-f0ccedc19478"
      },
      "execution_count": 97,
      "outputs": [
        {
          "output_type": "stream",
          "name": "stdout",
          "text": [
            "+---+-------------+----------+---+-------+-------------+\n",
            "| id|         name|       dob|age| salary|reversed_name|\n",
            "+---+-------------+----------+---+-------+-------------+\n",
            "|  1|     John Doe|2024-08-01| 23| 1000.5|     eoD nhoJ|\n",
            "|  2|   Jane Smith|2024-08-02| 25|1500.75|   htimS enaJ|\n",
            "|  3|  Bob Johnson|2024-08-03| 18| 3000.1|  nosnhoJ boB|\n",
            "|  4|  Alice Brown|2024-08-04| 22|2500.25|  nworB ecilA|\n",
            "|  5|    David Lee|2024-08-05| 27| 3500.5|    eeL divaD|\n",
            "|  6|Ayush Pradhan|2024-08-06| 31|2500.45|nahdarP hsuyA|\n",
            "+---+-------------+----------+---+-------+-------------+\n",
            "\n"
          ]
        }
      ]
    },
    {
      "cell_type": "code",
      "source": [
        "# 51 initcap\n",
        "#Converts the first letter of each word to uppercase.\n",
        "from pyspark.sql.functions import initcap\n",
        "df_initcap = df.withColumn(\"capitalized_name\", initcap(col(\"name\")))\n",
        "df_initcap.show()\n",
        ""
      ],
      "metadata": {
        "colab": {
          "base_uri": "https://localhost:8080/"
        },
        "id": "UR_RGJVZBGVm",
        "outputId": "7c7b57d6-6eab-4f97-9065-5b383d548c7d"
      },
      "execution_count": 98,
      "outputs": [
        {
          "output_type": "stream",
          "name": "stdout",
          "text": [
            "+---+-------------+----------+---+-------+----------------+\n",
            "| id|         name|       dob|age| salary|capitalized_name|\n",
            "+---+-------------+----------+---+-------+----------------+\n",
            "|  1|     John Doe|2024-08-01| 23| 1000.5|        John Doe|\n",
            "|  2|   Jane Smith|2024-08-02| 25|1500.75|      Jane Smith|\n",
            "|  3|  Bob Johnson|2024-08-03| 18| 3000.1|     Bob Johnson|\n",
            "|  4|  Alice Brown|2024-08-04| 22|2500.25|     Alice Brown|\n",
            "|  5|    David Lee|2024-08-05| 27| 3500.5|       David Lee|\n",
            "|  6|Ayush Pradhan|2024-08-06| 31|2500.45|   Ayush Pradhan|\n",
            "+---+-------------+----------+---+-------+----------------+\n",
            "\n"
          ]
        }
      ]
    },
    {
      "cell_type": "code",
      "source": [
        "# 52 instr\n",
        "#Returns the position of the first occurrence of a substring.\n",
        "from pyspark.sql.functions import instr\n",
        "df_instr = df.withColumn(\"position_of_a\", instr(col(\"name\"), \"a\"))\n",
        "print(df_instr.show())\n",
        "print(df_instr.printSchema())\n",
        "#df_instr = df.withColumn(\"position\", instr(col(\"name\"), \"Doe\"))\n",
        "#df_instr.show()"
      ],
      "metadata": {
        "colab": {
          "base_uri": "https://localhost:8080/"
        },
        "id": "t1RwfMUmBLtO",
        "outputId": "55674036-dfc2-4042-ebbd-9195a9056cad"
      },
      "execution_count": 99,
      "outputs": [
        {
          "output_type": "stream",
          "name": "stdout",
          "text": [
            "+---+-------------+----------+---+-------+-------------+\n",
            "| id|         name|       dob|age| salary|position_of_a|\n",
            "+---+-------------+----------+---+-------+-------------+\n",
            "|  1|     John Doe|2024-08-01| 23| 1000.5|            0|\n",
            "|  2|   Jane Smith|2024-08-02| 25|1500.75|            2|\n",
            "|  3|  Bob Johnson|2024-08-03| 18| 3000.1|            0|\n",
            "|  4|  Alice Brown|2024-08-04| 22|2500.25|            0|\n",
            "|  5|    David Lee|2024-08-05| 27| 3500.5|            2|\n",
            "|  6|Ayush Pradhan|2024-08-06| 31|2500.45|            9|\n",
            "+---+-------------+----------+---+-------+-------------+\n",
            "\n",
            "None\n",
            "root\n",
            " |-- id: long (nullable = true)\n",
            " |-- name: string (nullable = true)\n",
            " |-- dob: string (nullable = true)\n",
            " |-- age: long (nullable = true)\n",
            " |-- salary: double (nullable = true)\n",
            " |-- position_of_a: integer (nullable = true)\n",
            "\n",
            "None\n"
          ]
        }
      ]
    },
    {
      "cell_type": "code",
      "source": [
        "# 53 locate\n",
        "#Similar to instr, but can start the search from a specified position.\n",
        "from pyspark.sql.functions import locate\n",
        "df_locate = df.withColumn(\"locate_doe\", locate(\"Doe\", col(\"name\")))\n",
        "df_locate.show()"
      ],
      "metadata": {
        "colab": {
          "base_uri": "https://localhost:8080/"
        },
        "id": "VX2ce8MfBQvm",
        "outputId": "84e92a92-4925-40c3-8190-0dcd4b9f06bd"
      },
      "execution_count": 100,
      "outputs": [
        {
          "output_type": "stream",
          "name": "stdout",
          "text": [
            "+---+-------------+----------+---+-------+----------+\n",
            "| id|         name|       dob|age| salary|locate_doe|\n",
            "+---+-------------+----------+---+-------+----------+\n",
            "|  1|     John Doe|2024-08-01| 23| 1000.5|         6|\n",
            "|  2|   Jane Smith|2024-08-02| 25|1500.75|         0|\n",
            "|  3|  Bob Johnson|2024-08-03| 18| 3000.1|         0|\n",
            "|  4|  Alice Brown|2024-08-04| 22|2500.25|         0|\n",
            "|  5|    David Lee|2024-08-05| 27| 3500.5|         0|\n",
            "|  6|Ayush Pradhan|2024-08-06| 31|2500.45|         0|\n",
            "+---+-------------+----------+---+-------+----------+\n",
            "\n"
          ]
        }
      ]
    },
    {
      "cell_type": "code",
      "source": [
        "# 54 soundex\n",
        "#Converts a string to its Soundex code, useful for phonetic matching\n",
        "from pyspark.sql.functions import soundex\n",
        "df_soundex = df.withColumn(\"soundex_name\", soundex(col(\"name\")))\n",
        "df_soundex.show()"
      ],
      "metadata": {
        "colab": {
          "base_uri": "https://localhost:8080/"
        },
        "id": "xcJUwvRgBUm-",
        "outputId": "31f00d39-c661-470e-8357-b2be2b6109b5"
      },
      "execution_count": 101,
      "outputs": [
        {
          "output_type": "stream",
          "name": "stdout",
          "text": [
            "+---+-------------+----------+---+-------+------------+\n",
            "| id|         name|       dob|age| salary|soundex_name|\n",
            "+---+-------------+----------+---+-------+------------+\n",
            "|  1|     John Doe|2024-08-01| 23| 1000.5|        J530|\n",
            "|  2|   Jane Smith|2024-08-02| 25|1500.75|        J525|\n",
            "|  3|  Bob Johnson|2024-08-03| 18| 3000.1|        B125|\n",
            "|  4|  Alice Brown|2024-08-04| 22|2500.25|        A421|\n",
            "|  5|    David Lee|2024-08-05| 27| 3500.5|        D134|\n",
            "|  6|Ayush Pradhan|2024-08-06| 31|2500.45|        A216|\n",
            "+---+-------------+----------+---+-------+------------+\n",
            "\n"
          ]
        }
      ]
    },
    {
      "cell_type": "code",
      "source": [
        "# 55 levenshtein\n",
        "#Computes the Levenshtein distance between two strings.\n",
        "from pyspark.sql.functions import levenshtein\n",
        "df_levenshtein = df.withColumn(\"levenshtein_distance\", levenshtein(col(\"name\"), lit(\"Jon Doe\")))\n",
        "df_levenshtein.show()"
      ],
      "metadata": {
        "colab": {
          "base_uri": "https://localhost:8080/"
        },
        "id": "Edi8YM76BYsO",
        "outputId": "a142a3f7-1fe7-4717-f9ae-911f76b6a37d"
      },
      "execution_count": 102,
      "outputs": [
        {
          "output_type": "stream",
          "name": "stdout",
          "text": [
            "+---+-------------+----------+---+-------+--------------------+\n",
            "| id|         name|       dob|age| salary|levenshtein_distance|\n",
            "+---+-------------+----------+---+-------+--------------------+\n",
            "|  1|     John Doe|2024-08-01| 23| 1000.5|                   1|\n",
            "|  2|   Jane Smith|2024-08-02| 25|1500.75|                   7|\n",
            "|  3|  Bob Johnson|2024-08-03| 18| 3000.1|                   8|\n",
            "|  4|  Alice Brown|2024-08-04| 22|2500.25|                   9|\n",
            "|  5|    David Lee|2024-08-05| 27| 3500.5|                   7|\n",
            "|  6|Ayush Pradhan|2024-08-06| 31|2500.45|                  12|\n",
            "+---+-------------+----------+---+-------+--------------------+\n",
            "\n"
          ]
        }
      ]
    },
    {
      "cell_type": "code",
      "source": [
        "# 56 conv\n",
        "#Converts a number from one base to another.\n",
        "from pyspark.sql.functions import conv\n",
        "df_conv = df.withColumn(\"binary_value\", conv(col(\"id\"), 10, 2))\n",
        "df_conv.show()"
      ],
      "metadata": {
        "colab": {
          "base_uri": "https://localhost:8080/"
        },
        "id": "hglXV-7HBpTW",
        "outputId": "805e9036-9934-4d90-e969-3b8661d7fdf7"
      },
      "execution_count": 103,
      "outputs": [
        {
          "output_type": "stream",
          "name": "stdout",
          "text": [
            "+---+-------------+----------+---+-------+------------+\n",
            "| id|         name|       dob|age| salary|binary_value|\n",
            "+---+-------------+----------+---+-------+------------+\n",
            "|  1|     John Doe|2024-08-01| 23| 1000.5|           1|\n",
            "|  2|   Jane Smith|2024-08-02| 25|1500.75|          10|\n",
            "|  3|  Bob Johnson|2024-08-03| 18| 3000.1|          11|\n",
            "|  4|  Alice Brown|2024-08-04| 22|2500.25|         100|\n",
            "|  5|    David Lee|2024-08-05| 27| 3500.5|         101|\n",
            "|  6|Ayush Pradhan|2024-08-06| 31|2500.45|         110|\n",
            "+---+-------------+----------+---+-------+------------+\n",
            "\n"
          ]
        }
      ]
    },
    {
      "cell_type": "code",
      "source": [
        "# 57 translate\n",
        "#Replaces characters in a string with other characters.\n",
        "from pyspark.sql.functions import translate\n",
        "df_translate = df.withColumn(\"translated_name\", translate(col(\"name\"), \"o\", \"a\"))\n",
        "df_translate.show()"
      ],
      "metadata": {
        "colab": {
          "base_uri": "https://localhost:8080/"
        },
        "id": "91I_MYxkBwYW",
        "outputId": "23100b6b-805d-49e6-e0a0-3fcd4a28202d"
      },
      "execution_count": 104,
      "outputs": [
        {
          "output_type": "stream",
          "name": "stdout",
          "text": [
            "+---+-------------+----------+---+-------+---------------+\n",
            "| id|         name|       dob|age| salary|translated_name|\n",
            "+---+-------------+----------+---+-------+---------------+\n",
            "|  1|     John Doe|2024-08-01| 23| 1000.5|       Jahn Dae|\n",
            "|  2|   Jane Smith|2024-08-02| 25|1500.75|     Jane Smith|\n",
            "|  3|  Bob Johnson|2024-08-03| 18| 3000.1|    Bab Jahnsan|\n",
            "|  4|  Alice Brown|2024-08-04| 22|2500.25|    Alice Brawn|\n",
            "|  5|    David Lee|2024-08-05| 27| 3500.5|      David Lee|\n",
            "|  6|Ayush Pradhan|2024-08-06| 31|2500.45|  Ayush Pradhan|\n",
            "+---+-------------+----------+---+-------+---------------+\n",
            "\n"
          ]
        }
      ]
    },
    {
      "cell_type": "code",
      "source": [
        "# 58 crc32\n",
        "#Computes a cyclic redundancy check value\n",
        "from pyspark.sql.functions import crc32\n",
        "df_crc32 = df.withColumn(\"crc32_name\", crc32(col(\"name\")))\n",
        "df_crc32.show()"
      ],
      "metadata": {
        "colab": {
          "base_uri": "https://localhost:8080/"
        },
        "id": "jIBltuzLCTsV",
        "outputId": "5b2f5279-b293-460f-9ddb-7d3a393d15ee"
      },
      "execution_count": 105,
      "outputs": [
        {
          "output_type": "stream",
          "name": "stdout",
          "text": [
            "+---+-------------+----------+---+-------+----------+\n",
            "| id|         name|       dob|age| salary|crc32_name|\n",
            "+---+-------------+----------+---+-------+----------+\n",
            "|  1|     John Doe|2024-08-01| 23| 1000.5|1782059462|\n",
            "|  2|   Jane Smith|2024-08-02| 25|1500.75|3280634359|\n",
            "|  3|  Bob Johnson|2024-08-03| 18| 3000.1| 991314801|\n",
            "|  4|  Alice Brown|2024-08-04| 22|2500.25|2917542307|\n",
            "|  5|    David Lee|2024-08-05| 27| 3500.5|1227316513|\n",
            "|  6|Ayush Pradhan|2024-08-06| 31|2500.45|3209413628|\n",
            "+---+-------------+----------+---+-------+----------+\n",
            "\n"
          ]
        }
      ]
    },
    {
      "cell_type": "code",
      "source": [
        "# 59 uuid\n",
        "#Generates a column of UUIDs.\n",
        "from pyspark.sql.functions import expr\n",
        "df_uuid = df.withColumn(\"uuid\", expr(\"uuid()\"))\n",
        "df_uuid.show(truncate = False)"
      ],
      "metadata": {
        "colab": {
          "base_uri": "https://localhost:8080/"
        },
        "id": "YwF070I6CaDt",
        "outputId": "d45768ef-3ebe-4e4d-daf1-5d426877e6d8"
      },
      "execution_count": 106,
      "outputs": [
        {
          "output_type": "stream",
          "name": "stdout",
          "text": [
            "+---+-------------+----------+---+-------+------------------------------------+\n",
            "|id |name         |dob       |age|salary |uuid                                |\n",
            "+---+-------------+----------+---+-------+------------------------------------+\n",
            "|1  |John Doe     |2024-08-01|23 |1000.5 |ce8fe90a-504b-4fd1-b226-6d32fdc596b9|\n",
            "|2  |Jane Smith   |2024-08-02|25 |1500.75|7b09f3b9-983b-4fa7-9c83-9a35b1b2a147|\n",
            "|3  |Bob Johnson  |2024-08-03|18 |3000.1 |7e10b3e9-c8b4-402f-b6c5-337a07c2c904|\n",
            "|4  |Alice Brown  |2024-08-04|22 |2500.25|88a5ffcd-cfb7-49dc-ae4d-5658369b449f|\n",
            "|5  |David Lee    |2024-08-05|27 |3500.5 |4a7ac6fb-5eb4-4513-a428-610643186305|\n",
            "|6  |Ayush Pradhan|2024-08-06|31 |2500.45|5b57c8ec-1b29-438d-8887-e783737ea354|\n",
            "+---+-------------+----------+---+-------+------------------------------------+\n",
            "\n"
          ]
        }
      ]
    },
    {
      "cell_type": "code",
      "source": [
        "# 60 percent_rank\n",
        "#Computes the percent rank of a row within a window partition.\n",
        "from pyspark.sql.functions import percent_rank\n",
        "windowSpec = Window.orderBy(col(\"salary\").desc())\n",
        "df_percent_rank = df.withColumn(\"percent_rank\", percent_rank().over(windowSpec))\n",
        "df_percent_rank.show()"
      ],
      "metadata": {
        "colab": {
          "base_uri": "https://localhost:8080/"
        },
        "id": "ViAuq7ywCfr9",
        "outputId": "2665339d-7470-4643-d115-e116171924ba"
      },
      "execution_count": 107,
      "outputs": [
        {
          "output_type": "stream",
          "name": "stdout",
          "text": [
            "+---+-------------+----------+---+-------+------------+\n",
            "| id|         name|       dob|age| salary|percent_rank|\n",
            "+---+-------------+----------+---+-------+------------+\n",
            "|  5|    David Lee|2024-08-05| 27| 3500.5|         0.0|\n",
            "|  3|  Bob Johnson|2024-08-03| 18| 3000.1|         0.2|\n",
            "|  6|Ayush Pradhan|2024-08-06| 31|2500.45|         0.4|\n",
            "|  4|  Alice Brown|2024-08-04| 22|2500.25|         0.6|\n",
            "|  2|   Jane Smith|2024-08-02| 25|1500.75|         0.8|\n",
            "|  1|     John Doe|2024-08-01| 23| 1000.5|         1.0|\n",
            "+---+-------------+----------+---+-------+------------+\n",
            "\n"
          ]
        }
      ]
    },
    {
      "cell_type": "code",
      "source": [
        "# 61 cume_dist computes the cumulative distribution of a value in a group of values\n",
        "from pyspark.sql.functions import cume_dist\n",
        "windowSpec = Window.orderBy(col(\"salary\").desc())\n",
        "df_cume_dist = df.withColumn(\"cume_dist\", cume_dist().over(windowSpec))\n",
        "df_cume_dist.show()"
      ],
      "metadata": {
        "colab": {
          "base_uri": "https://localhost:8080/"
        },
        "id": "WNMJtzXxDDQl",
        "outputId": "7336ef44-1b17-4c87-c8c3-544d4967737e"
      },
      "execution_count": 108,
      "outputs": [
        {
          "output_type": "stream",
          "name": "stdout",
          "text": [
            "+---+-------------+----------+---+-------+-------------------+\n",
            "| id|         name|       dob|age| salary|          cume_dist|\n",
            "+---+-------------+----------+---+-------+-------------------+\n",
            "|  5|    David Lee|2024-08-05| 27| 3500.5|0.16666666666666666|\n",
            "|  3|  Bob Johnson|2024-08-03| 18| 3000.1| 0.3333333333333333|\n",
            "|  6|Ayush Pradhan|2024-08-06| 31|2500.45|                0.5|\n",
            "|  4|  Alice Brown|2024-08-04| 22|2500.25| 0.6666666666666666|\n",
            "|  2|   Jane Smith|2024-08-02| 25|1500.75| 0.8333333333333334|\n",
            "|  1|     John Doe|2024-08-01| 23| 1000.5|                1.0|\n",
            "+---+-------------+----------+---+-------+-------------------+\n",
            "\n"
          ]
        }
      ]
    },
    {
      "cell_type": "code",
      "source": [
        "# 62 percentile distributes rows of an ordered partition into a specified number of buckets\n",
        "from pyspark.sql.functions import ntile\n",
        "windowSpec = Window.orderBy(col(\"salary\").desc())\n",
        "df_ntile = df.withColumn(\"ntile\", ntile(3).over(windowSpec))\n",
        "df_ntile.show()"
      ],
      "metadata": {
        "colab": {
          "base_uri": "https://localhost:8080/"
        },
        "id": "6aj5xIghDgVE",
        "outputId": "a92119f6-4a2f-40dc-c875-b7ea5070e3ff"
      },
      "execution_count": 109,
      "outputs": [
        {
          "output_type": "stream",
          "name": "stdout",
          "text": [
            "+---+-------------+----------+---+-------+-----+\n",
            "| id|         name|       dob|age| salary|ntile|\n",
            "+---+-------------+----------+---+-------+-----+\n",
            "|  5|    David Lee|2024-08-05| 27| 3500.5|    1|\n",
            "|  3|  Bob Johnson|2024-08-03| 18| 3000.1|    1|\n",
            "|  6|Ayush Pradhan|2024-08-06| 31|2500.45|    2|\n",
            "|  4|  Alice Brown|2024-08-04| 22|2500.25|    2|\n",
            "|  2|   Jane Smith|2024-08-02| 25|1500.75|    3|\n",
            "|  1|     John Doe|2024-08-01| 23| 1000.5|    3|\n",
            "+---+-------------+----------+---+-------+-----+\n",
            "\n"
          ]
        }
      ]
    },
    {
      "cell_type": "code",
      "source": [
        "# 63 flatten an array of arrays into a single array\n",
        "from pyspark.sql.functions import flatten\n",
        "df_flatten = df.withColumn(\"flattened_array\", flatten(array(array(lit(1), lit(2)), array(lit(3)))))\n",
        "df_flatten.show()\n",
        ""
      ],
      "metadata": {
        "colab": {
          "base_uri": "https://localhost:8080/"
        },
        "id": "3CRSxTzHEDxc",
        "outputId": "bf04e702-7832-46e5-99f2-2f72194cd6db"
      },
      "execution_count": 111,
      "outputs": [
        {
          "output_type": "stream",
          "name": "stdout",
          "text": [
            "+---+-------------+----------+---+-------+---------------+\n",
            "| id|         name|       dob|age| salary|flattened_array|\n",
            "+---+-------------+----------+---+-------+---------------+\n",
            "|  1|     John Doe|2024-08-01| 23| 1000.5|      [1, 2, 3]|\n",
            "|  2|   Jane Smith|2024-08-02| 25|1500.75|      [1, 2, 3]|\n",
            "|  3|  Bob Johnson|2024-08-03| 18| 3000.1|      [1, 2, 3]|\n",
            "|  4|  Alice Brown|2024-08-04| 22|2500.25|      [1, 2, 3]|\n",
            "|  5|    David Lee|2024-08-05| 27| 3500.5|      [1, 2, 3]|\n",
            "|  6|Ayush Pradhan|2024-08-06| 31|2500.45|      [1, 2, 3]|\n",
            "+---+-------------+----------+---+-------+---------------+\n",
            "\n"
          ]
        }
      ]
    },
    {
      "cell_type": "code",
      "source": [
        "# 64 grouping_id returns the level of grouping applied\n",
        "from pyspark.sql.functions import grouping_id\n",
        "from pyspark.sql import functions  as F\n",
        "df_grouping_sets = df.cube(\"age\", \"salary\").agg(grouping_id().alias(\"grouping_id\"),F.sum(\"salary\"))\n",
        "df_grouping_sets.show()"
      ],
      "metadata": {
        "colab": {
          "base_uri": "https://localhost:8080/"
        },
        "id": "ioafomfaEN-0",
        "outputId": "df9d7edf-1903-41e9-ddeb-231d989b1caa"
      },
      "execution_count": 119,
      "outputs": [
        {
          "output_type": "stream",
          "name": "stdout",
          "text": [
            "+----+-------+-----------+------------------+\n",
            "| age| salary|grouping_id|       sum(salary)|\n",
            "+----+-------+-----------+------------------+\n",
            "|NULL|1500.75|          2|           1500.75|\n",
            "|NULL| 1000.5|          2|            1000.5|\n",
            "|  25|   NULL|          1|           1500.75|\n",
            "|NULL| 3000.1|          2|            3000.1|\n",
            "|NULL|   NULL|          3|14002.550000000001|\n",
            "|  23|   NULL|          1|            1000.5|\n",
            "|  25|1500.75|          0|           1500.75|\n",
            "|  23| 1000.5|          0|            1000.5|\n",
            "|  18| 3000.1|          0|            3000.1|\n",
            "|  18|   NULL|          1|            3000.1|\n",
            "|NULL| 3500.5|          2|            3500.5|\n",
            "|  22|   NULL|          1|           2500.25|\n",
            "|  22|2500.25|          0|           2500.25|\n",
            "|NULL|2500.45|          2|           2500.45|\n",
            "|  27|   NULL|          1|            3500.5|\n",
            "|NULL|2500.25|          2|           2500.25|\n",
            "|  31|   NULL|          1|           2500.45|\n",
            "|  27| 3500.5|          0|            3500.5|\n",
            "|  31|2500.45|          0|           2500.45|\n",
            "+----+-------+-----------+------------------+\n",
            "\n"
          ]
        }
      ]
    },
    {
      "cell_type": "code",
      "source": [
        "# 65 roll up\n",
        "## used for multi dimensional aggregates, similar to cube but with a subset of it\n",
        "# from pyspark .sql.functions import rollup\n",
        "df_rollup = df.rollup(\"age\", \"salary\").agg(F.sum(\"salary\"))\n",
        "df_rollup.show()\n"
      ],
      "metadata": {
        "colab": {
          "base_uri": "https://localhost:8080/"
        },
        "id": "_NYnX1VYEatk",
        "outputId": "cc35972e-4908-49bd-9fbc-8ce430dd3fde"
      },
      "execution_count": 120,
      "outputs": [
        {
          "output_type": "stream",
          "name": "stdout",
          "text": [
            "+----+-------+------------------+\n",
            "| age| salary|       sum(salary)|\n",
            "+----+-------+------------------+\n",
            "|  25|   NULL|           1500.75|\n",
            "|NULL|   NULL|14002.550000000001|\n",
            "|  23|   NULL|            1000.5|\n",
            "|  25|1500.75|           1500.75|\n",
            "|  23| 1000.5|            1000.5|\n",
            "|  18| 3000.1|            3000.1|\n",
            "|  18|   NULL|            3000.1|\n",
            "|  22|   NULL|           2500.25|\n",
            "|  22|2500.25|           2500.25|\n",
            "|  27|   NULL|            3500.5|\n",
            "|  31|   NULL|           2500.45|\n",
            "|  27| 3500.5|            3500.5|\n",
            "|  31|2500.45|           2500.45|\n",
            "+----+-------+------------------+\n",
            "\n"
          ]
        }
      ]
    },
    {
      "cell_type": "code",
      "source": [
        "# 67 corr\n",
        "## returns the Pearson correlation coefficient between two columns\n",
        "from pyspark.sql.functions import corr\n",
        "df_corr = df.select(corr(col(\"age\"), col(\"salary\")))\n",
        "df_corr.show()"
      ],
      "metadata": {
        "colab": {
          "base_uri": "https://localhost:8080/"
        },
        "id": "YzakyiF8G6Ry",
        "outputId": "ac9e660b-52d0-4cd5-8187-d37c21784a6d"
      },
      "execution_count": 121,
      "outputs": [
        {
          "output_type": "stream",
          "name": "stdout",
          "text": [
            "+-------------------+\n",
            "|  corr(age, salary)|\n",
            "+-------------------+\n",
            "|0.04031322089496106|\n",
            "+-------------------+\n",
            "\n"
          ]
        }
      ]
    },
    {
      "cell_type": "code",
      "source": [
        "## 68 collect_list\n",
        "# returns all values from an aggregated group as a list\n",
        "from pyspark.sql.functions import collect_list\n",
        "df_collect_list = df.groupBy(\"age\").agg(collect_list(\"name\").alias(\"names\"))\n",
        "df_collect_list.show()"
      ],
      "metadata": {
        "colab": {
          "base_uri": "https://localhost:8080/"
        },
        "id": "BJ2RL8WDHIHi",
        "outputId": "4d59e666-119c-420d-fda6-d5186a0dd44f"
      },
      "execution_count": 123,
      "outputs": [
        {
          "output_type": "stream",
          "name": "stdout",
          "text": [
            "+---+---------------+\n",
            "|age|          names|\n",
            "+---+---------------+\n",
            "| 25|   [Jane Smith]|\n",
            "| 18|  [Bob Johnson]|\n",
            "| 23|     [John Doe]|\n",
            "| 22|  [Alice Brown]|\n",
            "| 31|[Ayush Pradhan]|\n",
            "| 27|    [David Lee]|\n",
            "+---+---------------+\n",
            "\n"
          ]
        }
      ]
    },
    {
      "cell_type": "code",
      "source": [],
      "metadata": {
        "id": "JD8oD56IHTVh"
      },
      "execution_count": null,
      "outputs": []
    }
  ]
}